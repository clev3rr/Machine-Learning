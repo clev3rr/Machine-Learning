{
 "cells": [
  {
   "cell_type": "markdown",
   "id": "be427ce4d10d2c2d",
   "metadata": {},
   "source": [
    "# Instruction to lab work # 3: Lazy learner k-Nearest Neighbour\n",
    "\n",
    "> Student name    - Maksym\n",
    "\n",
    "> Student surname - Malituin\n",
    "\n",
    "> Group           - CS-31"
   ]
  },
  {
   "cell_type": "markdown",
   "id": "2bbc70b167f3aeaf",
   "metadata": {},
   "source": [
    "# Description of the work\n",
    "\n",
    "## Theory\n",
    "* [Lazy Learning Wiki](https://en.wikipedia.org/wiki/Lazy_learning)\n",
    "* [k-Nearest Neighbour Wiki](https://en.wikipedia.org/wiki/K-nearest_neighbors_algorithm)\n",
    "\n",
    "### k-NN metrics:\n",
    "* `n_neighbours` -- number neighbours to vote\n",
    "* `p` -- the distance metric (Euclid Distance, Mahalanobis Distance, Manhattan Distance (L1), L2, cosine, and [other available metric could be found here](https://docs.scipy.org/doc/scipy/reference/spatial.distance.html))\n",
    "\n",
    "## Datasets to use (just use that one from the 2nd lab work)\n",
    "\n",
    "1. [Liver Cirrhosis Stage Classification](https://www.kaggle.com/datasets/aadarshvelu/liver-cirrhosis-stage-classification)\n",
    "2. [Star Dataset for Stellar Classification](https://www.kaggle.com/datasets/vinesmsuic/star-categorization-giants-and-dwarfs)\n",
    "3. [Fitness Classification Dataset](https://www.kaggle.com/datasets/muhammedderric/fitness-classification-dataset-synthetic)\n",
    "4. [ECG Arrhythmia Classification Dataset](https://www.kaggle.com/datasets/sadmansakib7/ecg-arrhythmia-classification-dataset)\n",
    "5. [Mushroom Classification Enhanced](https://www.kaggle.com/datasets/sakurapuare/mushroom-classification-enhanced)\n",
    "6. [Dry Bean Dataset Classification](https://www.kaggle.com/datasets/nimapourmoradi/dry-bean-dataset-classification)\n",
    "7. [Swarm Behaviour Classification](https://www.kaggle.com/datasets/deepcontractor/swarm-behaviour-classification) -- challenging one 270 Mb dataset\n",
    "8. [Anemia Types Classification](https://www.kaggle.com/datasets/ehababoelnaga/anemia-types-classification)\n",
    "9. [NASA: Asteroids Classification](https://www.kaggle.com/datasets/shrutimehta/nasa-asteroids-classification)\n",
    "\n",
    "## Task description\n",
    "\n",
    "1. Build lazy learner as was shown in the experiment part.\n",
    "2. Do experiments with various metrics (not only included in the list)\n",
    "3. Do experiments with various data separations.\n",
    "4. WARNING: for testing while doing experiments on non-toy data do train-val-test data split. It'll show more realistic performance of your model.\n",
    "5. WARNING: for unbalanced data prefer using other metrics (not \"accuracy\", but \"f1-macro\" / \"precision\" / \"recall\"), be inventive in this question.\n"
   ]
  },
  {
   "cell_type": "markdown",
   "id": "89deeb3f738b324",
   "metadata": {},
   "source": [
    "# Import dependencies"
   ]
  },
  {
   "cell_type": "code",
   "execution_count": 85,
   "id": "58e6a489cbbb6366",
   "metadata": {
    "ExecuteTime": {
     "end_time": "2025-10-24T06:44:26.954997Z",
     "start_time": "2025-10-24T06:44:26.949749Z"
    }
   },
   "outputs": [],
   "source": [
    "import numpy as np\n",
    "import pandas as pd\n",
    "\n",
    "from sklearn.datasets import make_moons\n",
    "from sklearn.neighbors import KNeighborsClassifier\n",
    "\n",
    "from sklearn.model_selection import train_test_split\n",
    "from sklearn.preprocessing import LabelEncoder, StandardScaler\n",
    "from sklearn.decomposition import PCA\n",
    "\n",
    "from sklearn.metrics import classification_report, f1_score\n",
    "from sklearn.metrics import ConfusionMatrixDisplay\n",
    "\n",
    "import seaborn as sns\n",
    "import matplotlib.pyplot as plt\n",
    "import plotly.express as px\n",
    "\n",
    "from tqdm import tqdm"
   ]
  },
  {
   "cell_type": "markdown",
   "id": "90f514825b3f39d7",
   "metadata": {},
   "source": [
    "# Some useful code"
   ]
  },
  {
   "cell_type": "code",
   "execution_count": 86,
   "id": "b1c70da888aa00d8",
   "metadata": {
    "ExecuteTime": {
     "end_time": "2025-10-17T06:10:30.429449Z",
     "start_time": "2025-10-17T06:10:30.419903Z"
    }
   },
   "outputs": [],
   "source": [
    "def plot_classifier_boundary(X, y, model=None, title=None, resolution=200):\n",
    "    \"\"\"\n",
    "    Visualizes classifier decision boundaries using a high-resolution, evenly-spaced grid.\n",
    "\n",
    "    If a model is provided, it plots the decision regions.\n",
    "    If model is None, it only plots the data points.\n",
    "\n",
    "    :param X: The feature matrix, shape (n_samples, 2).\n",
    "    :param y: The true label vector, shape (n_samples,).\n",
    "    :param model: A trained scikit-learn classifier object. Optional.\n",
    "    :param title: The title for the plot. A default is used if None.\n",
    "    :param resolution: The number of points to use per axis for the background grid.\n",
    "    \"\"\"\n",
    "    plt.style.use('seaborn-v0_8-pastel')\n",
    "    fig, ax = plt.subplots(figsize=(8, 8))\n",
    "\n",
    "    # Plot the background decision regions only if a model is provided\n",
    "    if model is not None:\n",
    "        # 1. Define the plot boundaries with a 10% padding\n",
    "        x1_min, x1_max = X[:, 0].min(), X[:, 0].max()\n",
    "        x2_min, x2_max = X[:, 1].min(), X[:, 1].max()\n",
    "        x1_pad = (x1_max - x1_min) * 0.2\n",
    "        x2_pad = (x2_max - x2_min) * 0.2\n",
    "        plot_x1_min, plot_x1_max = x1_min - x1_pad, x1_max + x1_pad\n",
    "        plot_x2_min, plot_x2_max = x2_min - x2_pad, x2_max + x2_pad\n",
    "\n",
    "        # 2. Create a high-resolution, evenly-spaced grid of points\n",
    "        xx1, xx2 = np.meshgrid(\n",
    "            np.linspace(plot_x1_min, plot_x1_max, resolution),\n",
    "            np.linspace(plot_x2_min, plot_x2_max, resolution)\n",
    "        )\n",
    "        \n",
    "        # 3. Get the model's prediction for every point on the grid\n",
    "        # We flatten the grid to pass it to the model, then reshape the predictions back\n",
    "        grid_points = np.c_[xx1.ravel(), xx2.ravel()]\n",
    "        Z = model.predict(grid_points)\n",
    "        Z = Z.reshape(xx1.shape)\n",
    "        \n",
    "        # 4. Plot the regions using filled contours\n",
    "        ax.contourf(xx1, xx2, Z, cmap=plt.cm.coolwarm, alpha=0.6)\n",
    "\n",
    "    # 5. Plot the original data points on top\n",
    "    scatter = ax.scatter(X[:, 0], X[:, 1], c=y, cmap=plt.cm.coolwarm, edgecolors='k', alpha=1.0, zorder=2)\n",
    "\n",
    "    # Set a dynamic title if none is provided\n",
    "    if title is None:\n",
    "        title = \"Classifier Decision Boundary\" if model is not None else \"Data Scatter Plot\"\n",
    "    \n",
    "    ax.set_xlabel(\"Feature 1\", fontsize=12)\n",
    "    ax.set_ylabel(\"Feature 2\", fontsize=12)\n",
    "    ax.set_title(title, fontsize=14, weight='bold')\n",
    "\n",
    "    # --- Legend Creation ---\n",
    "    handles, _ = scatter.legend_elements()\n",
    "    num_classes = len(np.unique(y))\n",
    "    class_labels = [f'Class {i}' for i in range(num_classes)]\n",
    "    ax.legend(handles=handles, labels=class_labels, loc='upper right', fontsize=11)\n",
    "    \n",
    "    if model is not None:\n",
    "        ax.set_xlim(plot_x1_min, plot_x1_max)\n",
    "        ax.set_ylim(plot_x2_min, plot_x2_max)\n",
    "    \n",
    "    plt.show()"
   ]
  },
  {
   "cell_type": "markdown",
   "id": "d19ad8b0c2131a0b",
   "metadata": {},
   "source": [
    "## 2. Own experiments on the NASA: Asteroids Classification Dataset"
   ]
  },
  {
   "cell_type": "markdown",
   "id": "e7cdbdda3abd6680",
   "metadata": {},
   "source": [
    "## 2.1. Data Loading"
   ]
  },
  {
   "cell_type": "code",
   "execution_count": 87,
   "id": "ad81849cfb86e7d1",
   "metadata": {
    "ExecuteTime": {
     "end_time": "2025-10-24T05:52:02.011092Z",
     "start_time": "2025-10-24T05:52:01.994636Z"
    }
   },
   "outputs": [
    {
     "name": "stdout",
     "output_type": "stream",
     "text": [
      "Датасет успішно завантажено. Форма: (4687, 40)\n",
      "Перші 5 рядків:\n"
     ]
    },
    {
     "data": {
      "text/html": [
       "<div>\n",
       "<style scoped>\n",
       "    .dataframe tbody tr th:only-of-type {\n",
       "        vertical-align: middle;\n",
       "    }\n",
       "\n",
       "    .dataframe tbody tr th {\n",
       "        vertical-align: top;\n",
       "    }\n",
       "\n",
       "    .dataframe thead th {\n",
       "        text-align: right;\n",
       "    }\n",
       "</style>\n",
       "<table border=\"1\" class=\"dataframe\">\n",
       "  <thead>\n",
       "    <tr style=\"text-align: right;\">\n",
       "      <th></th>\n",
       "      <th>Neo Reference ID</th>\n",
       "      <th>Name</th>\n",
       "      <th>Absolute Magnitude</th>\n",
       "      <th>Est Dia in KM(min)</th>\n",
       "      <th>Est Dia in KM(max)</th>\n",
       "      <th>Est Dia in M(min)</th>\n",
       "      <th>Est Dia in M(max)</th>\n",
       "      <th>Est Dia in Miles(min)</th>\n",
       "      <th>Est Dia in Miles(max)</th>\n",
       "      <th>Est Dia in Feet(min)</th>\n",
       "      <th>...</th>\n",
       "      <th>Asc Node Longitude</th>\n",
       "      <th>Orbital Period</th>\n",
       "      <th>Perihelion Distance</th>\n",
       "      <th>Perihelion Arg</th>\n",
       "      <th>Aphelion Dist</th>\n",
       "      <th>Perihelion Time</th>\n",
       "      <th>Mean Anomaly</th>\n",
       "      <th>Mean Motion</th>\n",
       "      <th>Equinox</th>\n",
       "      <th>Hazardous</th>\n",
       "    </tr>\n",
       "  </thead>\n",
       "  <tbody>\n",
       "    <tr>\n",
       "      <th>0</th>\n",
       "      <td>3703080</td>\n",
       "      <td>3703080</td>\n",
       "      <td>21.6</td>\n",
       "      <td>0.127220</td>\n",
       "      <td>0.284472</td>\n",
       "      <td>127.219879</td>\n",
       "      <td>284.472297</td>\n",
       "      <td>0.079051</td>\n",
       "      <td>0.176763</td>\n",
       "      <td>417.388066</td>\n",
       "      <td>...</td>\n",
       "      <td>314.373913</td>\n",
       "      <td>609.599786</td>\n",
       "      <td>0.808259</td>\n",
       "      <td>57.257470</td>\n",
       "      <td>2.005764</td>\n",
       "      <td>2.458162e+06</td>\n",
       "      <td>264.837533</td>\n",
       "      <td>0.590551</td>\n",
       "      <td>J2000</td>\n",
       "      <td>True</td>\n",
       "    </tr>\n",
       "    <tr>\n",
       "      <th>1</th>\n",
       "      <td>3723955</td>\n",
       "      <td>3723955</td>\n",
       "      <td>21.3</td>\n",
       "      <td>0.146068</td>\n",
       "      <td>0.326618</td>\n",
       "      <td>146.067964</td>\n",
       "      <td>326.617897</td>\n",
       "      <td>0.090762</td>\n",
       "      <td>0.202951</td>\n",
       "      <td>479.225620</td>\n",
       "      <td>...</td>\n",
       "      <td>136.717242</td>\n",
       "      <td>425.869294</td>\n",
       "      <td>0.718200</td>\n",
       "      <td>313.091975</td>\n",
       "      <td>1.497352</td>\n",
       "      <td>2.457795e+06</td>\n",
       "      <td>173.741112</td>\n",
       "      <td>0.845330</td>\n",
       "      <td>J2000</td>\n",
       "      <td>False</td>\n",
       "    </tr>\n",
       "    <tr>\n",
       "      <th>2</th>\n",
       "      <td>2446862</td>\n",
       "      <td>2446862</td>\n",
       "      <td>20.3</td>\n",
       "      <td>0.231502</td>\n",
       "      <td>0.517654</td>\n",
       "      <td>231.502122</td>\n",
       "      <td>517.654482</td>\n",
       "      <td>0.143849</td>\n",
       "      <td>0.321655</td>\n",
       "      <td>759.521423</td>\n",
       "      <td>...</td>\n",
       "      <td>259.475979</td>\n",
       "      <td>643.580228</td>\n",
       "      <td>0.950791</td>\n",
       "      <td>248.415038</td>\n",
       "      <td>1.966857</td>\n",
       "      <td>2.458120e+06</td>\n",
       "      <td>292.893654</td>\n",
       "      <td>0.559371</td>\n",
       "      <td>J2000</td>\n",
       "      <td>True</td>\n",
       "    </tr>\n",
       "    <tr>\n",
       "      <th>3</th>\n",
       "      <td>3092506</td>\n",
       "      <td>3092506</td>\n",
       "      <td>27.4</td>\n",
       "      <td>0.008801</td>\n",
       "      <td>0.019681</td>\n",
       "      <td>8.801465</td>\n",
       "      <td>19.680675</td>\n",
       "      <td>0.005469</td>\n",
       "      <td>0.012229</td>\n",
       "      <td>28.876199</td>\n",
       "      <td>...</td>\n",
       "      <td>57.173266</td>\n",
       "      <td>514.082140</td>\n",
       "      <td>0.983902</td>\n",
       "      <td>18.707701</td>\n",
       "      <td>1.527904</td>\n",
       "      <td>2.457902e+06</td>\n",
       "      <td>68.741007</td>\n",
       "      <td>0.700277</td>\n",
       "      <td>J2000</td>\n",
       "      <td>False</td>\n",
       "    </tr>\n",
       "    <tr>\n",
       "      <th>4</th>\n",
       "      <td>3514799</td>\n",
       "      <td>3514799</td>\n",
       "      <td>21.6</td>\n",
       "      <td>0.127220</td>\n",
       "      <td>0.284472</td>\n",
       "      <td>127.219879</td>\n",
       "      <td>284.472297</td>\n",
       "      <td>0.079051</td>\n",
       "      <td>0.176763</td>\n",
       "      <td>417.388066</td>\n",
       "      <td>...</td>\n",
       "      <td>84.629307</td>\n",
       "      <td>495.597821</td>\n",
       "      <td>0.967687</td>\n",
       "      <td>158.263596</td>\n",
       "      <td>1.483543</td>\n",
       "      <td>2.457814e+06</td>\n",
       "      <td>135.142133</td>\n",
       "      <td>0.726395</td>\n",
       "      <td>J2000</td>\n",
       "      <td>True</td>\n",
       "    </tr>\n",
       "  </tbody>\n",
       "</table>\n",
       "<p>5 rows × 40 columns</p>\n",
       "</div>"
      ],
      "text/plain": [
       "   Neo Reference ID     Name  Absolute Magnitude  Est Dia in KM(min)  \\\n",
       "0           3703080  3703080                21.6            0.127220   \n",
       "1           3723955  3723955                21.3            0.146068   \n",
       "2           2446862  2446862                20.3            0.231502   \n",
       "3           3092506  3092506                27.4            0.008801   \n",
       "4           3514799  3514799                21.6            0.127220   \n",
       "\n",
       "   Est Dia in KM(max)  Est Dia in M(min)  Est Dia in M(max)  \\\n",
       "0            0.284472         127.219879         284.472297   \n",
       "1            0.326618         146.067964         326.617897   \n",
       "2            0.517654         231.502122         517.654482   \n",
       "3            0.019681           8.801465          19.680675   \n",
       "4            0.284472         127.219879         284.472297   \n",
       "\n",
       "   Est Dia in Miles(min)  Est Dia in Miles(max)  Est Dia in Feet(min)  ...  \\\n",
       "0               0.079051               0.176763            417.388066  ...   \n",
       "1               0.090762               0.202951            479.225620  ...   \n",
       "2               0.143849               0.321655            759.521423  ...   \n",
       "3               0.005469               0.012229             28.876199  ...   \n",
       "4               0.079051               0.176763            417.388066  ...   \n",
       "\n",
       "   Asc Node Longitude Orbital Period  Perihelion Distance  Perihelion Arg  \\\n",
       "0          314.373913     609.599786             0.808259       57.257470   \n",
       "1          136.717242     425.869294             0.718200      313.091975   \n",
       "2          259.475979     643.580228             0.950791      248.415038   \n",
       "3           57.173266     514.082140             0.983902       18.707701   \n",
       "4           84.629307     495.597821             0.967687      158.263596   \n",
       "\n",
       "   Aphelion Dist  Perihelion Time  Mean Anomaly  Mean Motion  Equinox  \\\n",
       "0       2.005764     2.458162e+06    264.837533     0.590551    J2000   \n",
       "1       1.497352     2.457795e+06    173.741112     0.845330    J2000   \n",
       "2       1.966857     2.458120e+06    292.893654     0.559371    J2000   \n",
       "3       1.527904     2.457902e+06     68.741007     0.700277    J2000   \n",
       "4       1.483543     2.457814e+06    135.142133     0.726395    J2000   \n",
       "\n",
       "   Hazardous  \n",
       "0       True  \n",
       "1      False  \n",
       "2       True  \n",
       "3      False  \n",
       "4       True  \n",
       "\n",
       "[5 rows x 40 columns]"
      ]
     },
     "metadata": {},
     "output_type": "display_data"
    }
   ],
   "source": [
    "# 2.1 Завантаження даних\n",
    "try:\n",
    "    df = pd.read_csv(\"nasa.csv\")\n",
    "    print(f\"Датасет успішно завантажено. Форма: {df.shape}\")\n",
    "    print(\"Перші 5 рядків:\")\n",
    "    display(df.head()) # display() краще для .ipynb\n",
    "except FileNotFoundError:\n",
    "    print(\"ПОМИЛКА: Файл nasa.csv не знайдено\")\n",
    "    df = pd.DataFrame() # Створюємо заглушку"
   ]
  },
  {
   "cell_type": "markdown",
   "id": "db39a7cf",
   "metadata": {},
   "source": [
    "## 2.1.1 Feature (X) and Target (y) Selection"
   ]
  },
  {
   "cell_type": "code",
   "execution_count": 88,
   "id": "9dcb34a7",
   "metadata": {},
   "outputs": [
    {
     "name": "stdout",
     "output_type": "stream",
     "text": [
      "Обрано 31 ознак для X.\n",
      "Список ознак: ['Absolute Magnitude', 'Est Dia in KM(min)', 'Est Dia in KM(max)', 'Est Dia in M(min)', 'Est Dia in M(max)', 'Est Dia in Miles(min)', 'Est Dia in Miles(max)', 'Est Dia in Feet(min)', 'Est Dia in Feet(max)', 'Relative Velocity km per sec', 'Relative Velocity km per hr', 'Miles per hour', 'Miss Dist.(Astronomical)', 'Miss Dist.(lunar)', 'Miss Dist.(kilometers)', 'Miss Dist.(miles)', 'Orbit Uncertainity', 'Minimum Orbit Intersection', 'Jupiter Tisserand Invariant', 'Epoch Osculation', 'Eccentricity', 'Semi Major Axis', 'Inclination', 'Asc Node Longitude', 'Orbital Period', 'Perihelion Distance', 'Perihelion Arg', 'Aphelion Dist', 'Perihelion Time', 'Mean Anomaly', 'Mean Motion']\n"
     ]
    }
   ],
   "source": [
    "if not df.empty:\n",
    "    # 2. Вибір ознак (X) та цільової змінної (y)\n",
    "    # Цільова змінна - 'Hazardous'\n",
    "    y_df = df['Hazardous']\n",
    "    \n",
    "    # Видаляємо ID, імена, дати та інші нечислові або непотрібні колонки\n",
    "    # 'Orbiting Body' та 'Equinox' мають лише одне значення ('Earth', 'J2000') і не несуть користі\n",
    "    irrelevant_cols = [\n",
    "        'Neo Reference ID', 'Name', 'Orbit ID', 'Orbit Determination Date', \n",
    "        'Close Approach Date', 'Epoch Date Close Approach', 'Equinox', \n",
    "        'Orbiting Body', 'Hazardous'\n",
    "    ]\n",
    "    \n",
    "    # Перевіримо, чи всі колонки існують, перш ніж їх видаляти\n",
    "    cols_to_drop = [col for col in irrelevant_cols if col in df.columns]\n",
    "    X_df = df.drop(columns=cols_to_drop)\n",
    "    \n",
    "    print(f\"Обрано {X_df.shape[1]} ознак для X.\")\n",
    "    print(\"Список ознак:\", list(X_df.columns))"
   ]
  },
  {
   "cell_type": "markdown",
   "id": "347b92c5",
   "metadata": {},
   "source": [
    "## 2.1.2 Handling Missing Values and Target Encoding"
   ]
  },
  {
   "cell_type": "code",
   "execution_count": 89,
   "id": "7e5d9e2b",
   "metadata": {},
   "outputs": [
    {
     "name": "stdout",
     "output_type": "stream",
     "text": [
      "Пропущених значень не знайдено.\n",
      "\n",
      "Класи цільової змінної: [False  True] -> [0 1]\n"
     ]
    }
   ],
   "source": [
    "if not df.empty:\n",
    "    # 3. Обробка пропущених значень (якщо є)\n",
    "    if X_df.isnull().sum().any():\n",
    "        print(\"Знайдено пропущені значення. Заповнення середнім...\")\n",
    "        X_df = X_df.fillna(X_df.mean())\n",
    "    else:\n",
    "        print(\"Пропущених значень не знайдено.\")\n",
    "\n",
    "    # 4. Кодування цільової змінної (True/False -> 1/0)\n",
    "    label_encoder = LabelEncoder()\n",
    "    y_encoded = label_encoder.fit_transform(y_df)\n",
    "    \n",
    "    print(f\"\\nКласи цільової змінної: {label_encoder.classes_} -> {np.unique(y_encoded)}\")"
   ]
  },
  {
   "cell_type": "markdown",
   "id": "e9c257b0",
   "metadata": {},
   "source": [
    "## 2.1.3 Class Balance Analysis"
   ]
  },
  {
   "cell_type": "code",
   "execution_count": 90,
   "id": "71f4efec",
   "metadata": {},
   "outputs": [
    {
     "name": "stdout",
     "output_type": "stream",
     "text": [
      "Баланс класів:\n",
      "0    83.89%\n",
      "1    16.11%\n",
      "Name: proportion, dtype: object\n"
     ]
    },
    {
     "data": {
      "image/png": "[encoded data removed]",
      "text/plain": [
       "<Figure size 640x480 with 1 Axes>"
      ]
     },
     "metadata": {},
     "output_type": "display_data"
    },
    {
     "name": "stdout",
     "output_type": "stream",
     "text": [
      "\n",
      "P.S. Датасет сильно незбалансований\n",
      "Будемо використовувати f1-macro як основну метрику.\n"
     ]
    }
   ],
   "source": [
    "if not df.empty:\n",
    "    # 5. Перевірка балансу класів\n",
    "    print(\"Баланс класів:\")\n",
    "    class_balance = pd.Series(y_encoded).value_counts(normalize=True) * 100\n",
    "    print(class_balance.round(2).astype(str) + '%')\n",
    "    \n",
    "    # Візуалізація балансу\n",
    "    sns.countplot(x=y_encoded)\n",
    "    plt.title(\"Розподіл класів 'Hazardous' (0=False, 1=True)\")\n",
    "    plt.show()\n",
    "    \n",
    "    if class_balance.min() < 20: # 20% поріг\n",
    "        print(\"\\nP.S. Датасет сильно незбалансований\")\n",
    "        print(\"Будемо використовувати f1-macro як основну метрику.\")\n",
    "        main_metric = 'f1-macro'\n",
    "    else:\n",
    "        main_metric = 'accuracy'"
   ]
  },
  {
   "cell_type": "markdown",
   "id": "cea532fb",
   "metadata": {},
   "source": [
    "## 2.1.4 Feature Scaling"
   ]
  },
  {
   "cell_type": "code",
   "execution_count": 91,
   "id": "8b404a91",
   "metadata": {},
   "outputs": [
    {
     "name": "stdout",
     "output_type": "stream",
     "text": [
      "Масштабування ознак за допомогою StandardScaler...\n",
      "Дані успішно підготовлено та масштабовано!\n",
      "X_scaled shape: (4687, 31), y_encoded shape: (4687,)\n"
     ]
    }
   ],
   "source": [
    "if not df.empty:\n",
    "    # 6. Масштабування ознак\n",
    "    print(\"Масштабування ознак за допомогою StandardScaler...\")\n",
    "    scaler = StandardScaler()\n",
    "    X_scaled = scaler.fit_transform(X_df)\n",
    "    \n",
    "    print(f\"Дані успішно підготовлено та масштабовано!\")\n",
    "    print(f\"X_scaled shape: {X_scaled.shape}, y_encoded shape: {y_encoded.shape}\")"
   ]
  },
  {
   "cell_type": "markdown",
   "id": "3f89b19a",
   "metadata": {},
   "source": [
    "## 2.1.5 Data Splitting (Train-Val-Test)"
   ]
  },
  {
   "cell_type": "code",
   "execution_count": 92,
   "id": "32865fa5",
   "metadata": {},
   "outputs": [
    {
     "name": "stdout",
     "output_type": "stream",
     "text": [
      "Загальний розмір: 4687\n",
      "Розмір Train (для експериментів): 2624\n",
      "Розмір Validation (для оцінки): 656\n",
      "Розмір Test (для фінальної оцінки): 1407\n"
     ]
    }
   ],
   "source": [
    "# Загальне співвідношення: 70% (train+val) / 30% (test)\n",
    "X_train_full, X_test, y_train_full, y_test = train_test_split(\n",
    "    X_scaled, \n",
    "    y_encoded, \n",
    "    test_size=0.3, # 30% на тест\n",
    "    random_state=42,\n",
    "    stratify=y_encoded # Дуже важливо для незбалансованих даних\n",
    ")\n",
    "\n",
    "# Розділяємо 70% на 80/20: 80% (навчання) / 20% (валідація)\n",
    "# Це дасть ~56% (train) / 14% (val) / 30% (test) від загальної вибірки\n",
    "X_train, X_val, y_train, y_val = train_test_split(\n",
    "    X_train_full,\n",
    "    y_train_full,\n",
    "    test_size=0.2, # 20% на валідацію\n",
    "    random_state=42,\n",
    "    stratify=y_train_full # Зберігаємо баланс\n",
    ")\n",
    "\n",
    "print(f\"Загальний розмір: {len(y_encoded)}\")\n",
    "print(f\"Розмір Train (для експериментів): {len(y_train)}\")\n",
    "print(f\"Розмір Validation (для оцінки): {len(y_val)}\")\n",
    "print(f\"Розмір Test (для фінальної оцінки): {len(y_test)}\")"
   ]
  },
  {
   "cell_type": "markdown",
   "id": "14b17a0d88035581",
   "metadata": {},
   "source": [
    "## 2.2. Running Experiments"
   ]
  },
  {
   "cell_type": "code",
   "execution_count": 93,
   "id": "5069c112be68e457",
   "metadata": {
    "ExecuteTime": {
     "end_time": "2025-10-24T06:19:35.458559Z",
     "start_time": "2025-10-24T06:19:27.972500Z"
    }
   },
   "outputs": [
    {
     "name": "stdout",
     "output_type": "stream",
     "text": [
      "Розпочинаємо експерименти... Всього ітерацій: 160\n"
     ]
    },
    {
     "name": "stderr",
     "output_type": "stream",
     "text": [
      "100%|██████████| 5/5 [00:03<00:00,  1.38it/s]"
     ]
    },
    {
     "name": "stdout",
     "output_type": "stream",
     "text": [
      "\n",
      "Експерименти завершено.\n"
     ]
    },
    {
     "name": "stderr",
     "output_type": "stream",
     "text": [
      "\n"
     ]
    }
   ],
   "source": [
    "experiment_results = []\n",
    "\n",
    "# 1. Експеримент зі співвідношенням даних (data separation)\n",
    "train_size_percents = np.arange(0.1, 1.0, 0.2) # [0.1, 0.3, 0.5, 0.7, 0.9]\n",
    "\n",
    "# 2. Експеримент з метриками\n",
    "metrics_to_test = [\"euclidean\", \"manhattan\", \"cosine\", \"chebyshev\"]\n",
    "\n",
    "# 3. Експеримент з 'k'\n",
    "k_values = [1, 3, 5, 7, 11, 15, 21, 31] # Набір значень 'k'\n",
    "\n",
    "print(f\"Розпочинаємо експерименти... Всього ітерацій: {len(train_size_percents) * len(metrics_to_test) * len(k_values)}\")\n",
    "\n",
    "for train_size in tqdm(train_size_percents):\n",
    "    \n",
    "    discard_percent = 1.0 - train_size\n",
    "    \n",
    "    # Використовуємо наш 'X_train' для створення під-вибірок\n",
    "    X_train_mem, _, y_train_mem, _ = train_test_split(\n",
    "        X_train, \n",
    "        y_train,\n",
    "        test_size=discard_percent,\n",
    "        random_state=42,      \n",
    "        stratify=y_train        \n",
    "    )\n",
    "    \n",
    "    if len(y_train_mem) == 0:\n",
    "        continue\n",
    "\n",
    "    for metric in metrics_to_test:\n",
    "        for k in k_values:\n",
    "            if k > len(y_train_mem):\n",
    "                continue \n",
    "                \n",
    "            try:\n",
    "                knn_model = KNeighborsClassifier(n_neighbors=k, metric=metric, n_jobs=-1) \n",
    "                knn_model.fit(X_train_mem, y_train_mem)\n",
    "                \n",
    "                y_val_pred = knn_model.predict(X_val)\n",
    "                \n",
    "                score = f1_score(y_val, y_val_pred, average='macro')\n",
    "                \n",
    "                experiment_results.append((metric, train_size, k, score))\n",
    "            \n",
    "            except Exception as e:\n",
    "                print(f\"Помилка: k={k}, metric={metric}, train_size={train_size}. {e}\")\n",
    "\n",
    "print(\"\\nЕксперименти завершено.\")"
   ]
  },
  {
   "cell_type": "code",
   "execution_count": 94,
   "id": "aebc98ef4ccc6468",
   "metadata": {
    "ExecuteTime": {
     "end_time": "2025-10-24T06:19:42.268953Z",
     "start_time": "2025-10-24T06:19:42.212086Z"
    }
   },
   "outputs": [
    {
     "data": {
      "text/plain": [
       "[('euclidean', np.float64(0.1), 1, 0.674948679832944),\n",
       " ('euclidean', np.float64(0.1), 3, 0.6920143073564787),\n",
       " ('euclidean', np.float64(0.1), 5, 0.6830917874396135),\n",
       " ('euclidean', np.float64(0.1), 7, 0.6910032972209138),\n",
       " ('euclidean', np.float64(0.1), 11, 0.6325623839642531),\n",
       " ('euclidean', np.float64(0.1), 15, 0.5649004765909728),\n",
       " ('euclidean', np.float64(0.1), 21, 0.493934351837846),\n",
       " ('euclidean', np.float64(0.1), 31, 0.4657773296622329),\n",
       " ('manhattan', np.float64(0.1), 1, 0.725752508361204),\n",
       " ('manhattan', np.float64(0.1), 3, 0.7309539052496798),\n",
       " ('manhattan', np.float64(0.1), 5, 0.712303505851893),\n",
       " ('manhattan', np.float64(0.1), 7, 0.7286789643477541),\n",
       " ('manhattan', np.float64(0.1), 11, 0.6760733772806953),\n",
       " ('manhattan', np.float64(0.1), 15, 0.6260197762881126),\n",
       " ('manhattan', np.float64(0.1), 21, 0.5082458770614693),\n",
       " ('manhattan', np.float64(0.1), 31, 0.48471329321955053),\n",
       " ('cosine', np.float64(0.1), 1, 0.6771638967524053),\n",
       " ('cosine', np.float64(0.1), 3, 0.668857525497064),\n",
       " ('cosine', np.float64(0.1), 5, 0.6485588771027537),\n",
       " ('cosine', np.float64(0.1), 7, 0.6420544255595801),\n",
       " ('cosine', np.float64(0.1), 11, 0.5887040999023987),\n",
       " ('cosine', np.float64(0.1), 15, 0.5649004765909728),\n",
       " ('cosine', np.float64(0.1), 21, 0.5413870246085011),\n",
       " ('cosine', np.float64(0.1), 31, 0.4753291497477544),\n",
       " ('chebyshev', np.float64(0.1), 1, 0.6619356582860233),\n",
       " ('chebyshev', np.float64(0.1), 3, 0.6553522844544516),\n",
       " ('chebyshev', np.float64(0.1), 5, 0.6587515299877601),\n",
       " ('chebyshev', np.float64(0.1), 7, 0.6232302673766973),\n",
       " ('chebyshev', np.float64(0.1), 11, 0.5830202334875232),\n",
       " ('chebyshev', np.float64(0.1), 15, 0.5457803844900619),\n",
       " ('chebyshev', np.float64(0.1), 21, 0.5355004827808175),\n",
       " ('chebyshev', np.float64(0.1), 31, 0.4657773296622329),\n",
       " ('euclidean', np.float64(0.30000000000000004), 1, 0.7744494574241484),\n",
       " ('euclidean', np.float64(0.30000000000000004), 3, 0.7388522506534929),\n",
       " ('euclidean', np.float64(0.30000000000000004), 5, 0.7550959456432464),\n",
       " ('euclidean', np.float64(0.30000000000000004), 7, 0.6929514399950374),\n",
       " ('euclidean', np.float64(0.30000000000000004), 11, 0.6463954551786374),\n",
       " ('euclidean', np.float64(0.30000000000000004), 15, 0.5931165540540541),\n",
       " ('euclidean', np.float64(0.30000000000000004), 21, 0.5961348001820177),\n",
       " ('euclidean', np.float64(0.30000000000000004), 31, 0.5448843114115081),\n",
       " ('manhattan', np.float64(0.30000000000000004), 1, 0.7659441619837659),\n",
       " ('manhattan', np.float64(0.30000000000000004), 3, 0.7597903176071539),\n",
       " ('manhattan', np.float64(0.30000000000000004), 5, 0.7524275805793554),\n",
       " ('manhattan', np.float64(0.30000000000000004), 7, 0.7265647280784503),\n",
       " ('manhattan', np.float64(0.30000000000000004), 11, 0.6801750380517504),\n",
       " ('manhattan', np.float64(0.30000000000000004), 15, 0.6342903479208373),\n",
       " ('manhattan', np.float64(0.30000000000000004), 21, 0.5933324149331864),\n",
       " ('manhattan', np.float64(0.30000000000000004), 31, 0.5842953574872572),\n",
       " ('cosine', np.float64(0.30000000000000004), 1, 0.7725333901498536),\n",
       " ('cosine', np.float64(0.30000000000000004), 3, 0.7309539052496798),\n",
       " ('cosine', np.float64(0.30000000000000004), 5, 0.6991004311670651),\n",
       " ('cosine', np.float64(0.30000000000000004), 7, 0.6725952813067151),\n",
       " ('cosine', np.float64(0.30000000000000004), 11, 0.6160483338053431),\n",
       " ('cosine', np.float64(0.30000000000000004), 15, 0.6025687628741063),\n",
       " ('cosine', np.float64(0.30000000000000004), 21, 0.6072367564753351),\n",
       " ('cosine', np.float64(0.30000000000000004), 31, 0.5271594971744896),\n",
       " ('chebyshev', np.float64(0.30000000000000004), 1, 0.7105561105561106),\n",
       " ('chebyshev', np.float64(0.30000000000000004), 3, 0.6744713300402905),\n",
       " ('chebyshev', np.float64(0.30000000000000004), 5, 0.6705855555037868),\n",
       " ('chebyshev', np.float64(0.30000000000000004), 7, 0.6598098530682801),\n",
       " ('chebyshev', np.float64(0.30000000000000004), 11, 0.6373101413262929),\n",
       " ('chebyshev', np.float64(0.30000000000000004), 15, 0.6243053588847982),\n",
       " ('chebyshev', np.float64(0.30000000000000004), 21, 0.5460731172875102),\n",
       " ('chebyshev', np.float64(0.30000000000000004), 31, 0.48471329321955053),\n",
       " ('euclidean', np.float64(0.5000000000000001), 1, 0.7687372206162307),\n",
       " ('euclidean', np.float64(0.5000000000000001), 3, 0.7776469538845776),\n",
       " ('euclidean', np.float64(0.5000000000000001), 5, 0.7921906204806832),\n",
       " ('euclidean', np.float64(0.5000000000000001), 7, 0.7910778371954843),\n",
       " ('euclidean', np.float64(0.5000000000000001), 11, 0.753515834675255),\n",
       " ('euclidean', np.float64(0.5000000000000001), 15, 0.7246823956442832),\n",
       " ('euclidean', np.float64(0.5000000000000001), 21, 0.6994290279376865),\n",
       " ('euclidean', np.float64(0.5000000000000001), 31, 0.6699114769374126),\n",
       " ('manhattan', np.float64(0.5000000000000001), 1, 0.7674027177929573),\n",
       " ('manhattan', np.float64(0.5000000000000001), 3, 0.7960646624241094),\n",
       " ('manhattan', np.float64(0.5000000000000001), 5, 0.808637430718582),\n",
       " ('manhattan', np.float64(0.5000000000000001), 7, 0.7894777788583098),\n",
       " ('manhattan', np.float64(0.5000000000000001), 11, 0.7747252747252746),\n",
       " ('manhattan', np.float64(0.5000000000000001), 15, 0.7453642090320292),\n",
       " ('manhattan', np.float64(0.5000000000000001), 21, 0.714842923940882),\n",
       " ('manhattan', np.float64(0.5000000000000001), 31, 0.6780618108401926),\n",
       " ('cosine', np.float64(0.5000000000000001), 1, 0.7811955675795872),\n",
       " ('cosine', np.float64(0.5000000000000001), 3, 0.7680967793769942),\n",
       " ('cosine', np.float64(0.5000000000000001), 5, 0.7724329324699353),\n",
       " ('cosine', np.float64(0.5000000000000001), 7, 0.730338447172502),\n",
       " ('cosine', np.float64(0.5000000000000001), 11, 0.7081597222222222),\n",
       " ('cosine', np.float64(0.5000000000000001), 15, 0.6983603615727968),\n",
       " ('cosine', np.float64(0.5000000000000001), 21, 0.6627249357326479),\n",
       " ('cosine', np.float64(0.5000000000000001), 31, 0.6454604752290729),\n",
       " ('chebyshev', np.float64(0.5000000000000001), 1, 0.7214785214785215),\n",
       " ('chebyshev', np.float64(0.5000000000000001), 3, 0.6890394845415123),\n",
       " ('chebyshev', np.float64(0.5000000000000001), 5, 0.6991366906474821),\n",
       " ('chebyshev', np.float64(0.5000000000000001), 7, 0.7010086598101579),\n",
       " ('chebyshev', np.float64(0.5000000000000001), 11, 0.6778604616023873),\n",
       " ('chebyshev', np.float64(0.5000000000000001), 15, 0.6798864342116937),\n",
       " ('chebyshev', np.float64(0.5000000000000001), 21, 0.6419192012119205),\n",
       " ('chebyshev', np.float64(0.5000000000000001), 31, 0.567555564807683),\n",
       " ('euclidean', np.float64(0.7000000000000001), 1, 0.7815517815517816),\n",
       " ('euclidean', np.float64(0.7000000000000001), 3, 0.785554674870472),\n",
       " ('euclidean', np.float64(0.7000000000000001), 5, 0.808451900615842),\n",
       " ('euclidean', np.float64(0.7000000000000001), 7, 0.8047619047619048),\n",
       " ('euclidean', np.float64(0.7000000000000001), 11, 0.7791079281316748),\n",
       " ('euclidean', np.float64(0.7000000000000001), 15, 0.7793057044933661),\n",
       " ('euclidean', np.float64(0.7000000000000001), 21, 0.7193558875370056),\n",
       " ('euclidean', np.float64(0.7000000000000001), 31, 0.7014921844990102),\n",
       " ('manhattan', np.float64(0.7000000000000001), 1, 0.7889792231255646),\n",
       " ('manhattan', np.float64(0.7000000000000001), 3, 0.8178234048849331),\n",
       " ('manhattan', np.float64(0.7000000000000001), 5, 0.8092128717515714),\n",
       " ('manhattan', np.float64(0.7000000000000001), 7, 0.8035508021390374),\n",
       " ('manhattan', np.float64(0.7000000000000001), 11, 0.7962200515761291),\n",
       " ('manhattan', np.float64(0.7000000000000001), 15, 0.8031370038412291),\n",
       " ('manhattan', np.float64(0.7000000000000001), 21, 0.7793333226545356),\n",
       " ('manhattan', np.float64(0.7000000000000001), 31, 0.7214916810097534),\n",
       " ('cosine', np.float64(0.7000000000000001), 1, 0.8028058818927144),\n",
       " ('cosine', np.float64(0.7000000000000001), 3, 0.785233949175338),\n",
       " ('cosine', np.float64(0.7000000000000001), 5, 0.7722863308002628),\n",
       " ('cosine', np.float64(0.7000000000000001), 7, 0.7744800320861742),\n",
       " ('cosine', np.float64(0.7000000000000001), 11, 0.7520901603275922),\n",
       " ('cosine', np.float64(0.7000000000000001), 15, 0.7302962832444323),\n",
       " ('cosine', np.float64(0.7000000000000001), 21, 0.7130744902765628),\n",
       " ('cosine', np.float64(0.7000000000000001), 31, 0.6917220799360887),\n",
       " ('chebyshev', np.float64(0.7000000000000001), 1, 0.7598131431096522),\n",
       " ('chebyshev', np.float64(0.7000000000000001), 3, 0.7182802882091902),\n",
       " ('chebyshev', np.float64(0.7000000000000001), 5, 0.7217416963281265),\n",
       " ('chebyshev', np.float64(0.7000000000000001), 7, 0.7330203679866737),\n",
       " ('chebyshev', np.float64(0.7000000000000001), 11, 0.6725694444444444),\n",
       " ('chebyshev', np.float64(0.7000000000000001), 15, 0.6939236111111111),\n",
       " ('chebyshev', np.float64(0.7000000000000001), 21, 0.6704783854859203),\n",
       " ('chebyshev', np.float64(0.7000000000000001), 31, 0.6378017462763226),\n",
       " ('euclidean', np.float64(0.9000000000000001), 1, 0.803985438629716),\n",
       " ('euclidean', np.float64(0.9000000000000001), 3, 0.7914298892575825),\n",
       " ('euclidean', np.float64(0.9000000000000001), 5, 0.7935251798561151),\n",
       " ('euclidean', np.float64(0.9000000000000001), 7, 0.7947232977287482),\n",
       " ('euclidean', np.float64(0.9000000000000001), 11, 0.7681978798586573),\n",
       " ('euclidean', np.float64(0.9000000000000001), 15, 0.7680948629375998),\n",
       " ('euclidean', np.float64(0.9000000000000001), 21, 0.7431494195825405),\n",
       " ('euclidean', np.float64(0.9000000000000001), 31, 0.6821382210603768),\n",
       " ('manhattan', np.float64(0.9000000000000001), 1, 0.8078475091262816),\n",
       " ('manhattan', np.float64(0.9000000000000001), 3, 0.837101048820021),\n",
       " ('manhattan', np.float64(0.9000000000000001), 5, 0.8137351404558189),\n",
       " ('manhattan', np.float64(0.9000000000000001), 7, 0.8293246993524515),\n",
       " ('manhattan', np.float64(0.9000000000000001), 11, 0.8156276657117358),\n",
       " ('manhattan', np.float64(0.9000000000000001), 15, 0.8008113691231737),\n",
       " ('manhattan', np.float64(0.9000000000000001), 21, 0.757986111111111),\n",
       " ('manhattan', np.float64(0.9000000000000001), 31, 0.723649206230127),\n",
       " ('cosine', np.float64(0.9000000000000001), 1, 0.8156541862963882),\n",
       " ('cosine', np.float64(0.9000000000000001), 3, 0.7831978319783197),\n",
       " ('cosine', np.float64(0.9000000000000001), 5, 0.7703393951181561),\n",
       " ('cosine', np.float64(0.9000000000000001), 7, 0.7724329324699353),\n",
       " ('cosine', np.float64(0.9000000000000001), 11, 0.7788882864135294),\n",
       " ('cosine', np.float64(0.9000000000000001), 15, 0.756711651385598),\n",
       " ('cosine', np.float64(0.9000000000000001), 21, 0.7337603931290173),\n",
       " ('cosine', np.float64(0.9000000000000001), 31, 0.6953654685613448),\n",
       " ('chebyshev', np.float64(0.9000000000000001), 1, 0.7674027177929573),\n",
       " ('chebyshev', np.float64(0.9000000000000001), 3, 0.7444281741606996),\n",
       " ('chebyshev', np.float64(0.9000000000000001), 5, 0.7395743329394566),\n",
       " ('chebyshev', np.float64(0.9000000000000001), 7, 0.7415142133408388),\n",
       " ('chebyshev', np.float64(0.9000000000000001), 11, 0.712280701754386),\n",
       " ('chebyshev', np.float64(0.9000000000000001), 15, 0.6868055555555556),\n",
       " ('chebyshev', np.float64(0.9000000000000001), 21, 0.6649020154174794),\n",
       " ('chebyshev', np.float64(0.9000000000000001), 31, 0.6209553158705701)]"
      ]
     },
     "execution_count": 94,
     "metadata": {},
     "output_type": "execute_result"
    }
   ],
   "source": [
    "experiment_results"
   ]
  },
  {
   "cell_type": "markdown",
   "id": "e57dffe1",
   "metadata": {},
   "source": [
    "## 2.2.1 Experiment Results Analysis (Visualization)"
   ]
  },
  {
   "cell_type": "code",
   "execution_count": 95,
   "id": "820a9fd706271f9d",
   "metadata": {
    "ExecuteTime": {
     "end_time": "2025-10-24T06:34:32.910579Z",
     "start_time": "2025-10-24T06:34:32.796067Z"
    }
   },
   "outputs": [
    {
     "name": "stdout",
     "output_type": "stream",
     "text": [
      "Топ 5 найкращих комбінацій на валідаційному наборі:\n"
     ]
    },
    {
     "data": {
      "text/html": [
       "<div>\n",
       "<style scoped>\n",
       "    .dataframe tbody tr th:only-of-type {\n",
       "        vertical-align: middle;\n",
       "    }\n",
       "\n",
       "    .dataframe tbody tr th {\n",
       "        vertical-align: top;\n",
       "    }\n",
       "\n",
       "    .dataframe thead th {\n",
       "        text-align: right;\n",
       "    }\n",
       "</style>\n",
       "<table border=\"1\" class=\"dataframe\">\n",
       "  <thead>\n",
       "    <tr style=\"text-align: right;\">\n",
       "      <th></th>\n",
       "      <th>metric</th>\n",
       "      <th>train_size_percent</th>\n",
       "      <th>k</th>\n",
       "      <th>f1_macro</th>\n",
       "    </tr>\n",
       "  </thead>\n",
       "  <tbody>\n",
       "    <tr>\n",
       "      <th>137</th>\n",
       "      <td>manhattan</td>\n",
       "      <td>0.9</td>\n",
       "      <td>3</td>\n",
       "      <td>0.837101</td>\n",
       "    </tr>\n",
       "    <tr>\n",
       "      <th>139</th>\n",
       "      <td>manhattan</td>\n",
       "      <td>0.9</td>\n",
       "      <td>7</td>\n",
       "      <td>0.829325</td>\n",
       "    </tr>\n",
       "    <tr>\n",
       "      <th>105</th>\n",
       "      <td>manhattan</td>\n",
       "      <td>0.7</td>\n",
       "      <td>3</td>\n",
       "      <td>0.817823</td>\n",
       "    </tr>\n",
       "    <tr>\n",
       "      <th>144</th>\n",
       "      <td>cosine</td>\n",
       "      <td>0.9</td>\n",
       "      <td>1</td>\n",
       "      <td>0.815654</td>\n",
       "    </tr>\n",
       "    <tr>\n",
       "      <th>140</th>\n",
       "      <td>manhattan</td>\n",
       "      <td>0.9</td>\n",
       "      <td>11</td>\n",
       "      <td>0.815628</td>\n",
       "    </tr>\n",
       "  </tbody>\n",
       "</table>\n",
       "</div>"
      ],
      "text/plain": [
       "        metric  train_size_percent   k  f1_macro\n",
       "137  manhattan                 0.9   3  0.837101\n",
       "139  manhattan                 0.9   7  0.829325\n",
       "105  manhattan                 0.7   3  0.817823\n",
       "144     cosine                 0.9   1  0.815654\n",
       "140  manhattan                 0.9  11  0.815628"
      ]
     },
     "metadata": {},
     "output_type": "display_data"
    },
    {
     "data": {
      "application/vnd.plotly.v1+json": {
       "config": {
        "plotlyServerURL": "https://plot.ly"
       },
       "data": [
        {
         "hovertemplate": "train_size_percent=%{x}<br>k=%{y}<br>f1_macro=%{marker.color}<extra></extra>",
         "legendgroup": "",
         "marker": {
          "color": {
           "bdata": "PoxL+S2Z5T+zuU4w+yTmP7ME507j2+U/Z75f8rIc5j/mzPl38z3kP1F/DiqqE+I/q+3g056c3z8jhYe3S8/dP0tVgTpKyOg/dj+kea2k5z9yKPz4vinoP1bVj3+oLOY/G8+IhUWv5D+tG0yRz/riP6BB2UmJE+M/grUzObFv4T//d7jMfpnoP8KVWN174ug/DjPlJKBZ6T9iCut3glDpP/1YXj3NHOg/oO6oIpkw5z+isRv8uGHmP+wolTHqb+U/bqe84XgC6T8iPLmOQyPpPzcXMYXW3uk/CpzACZzA6T/UJ+y/c+7oP/NTTIQS8Og//gFlo/YE5z/DVNq8n3LmP7z+q6s/uuk/4wVuxmRT6T/kGgHrjmTpP+Sno41fbuk/3C5buBOV6D/tXJGtO5ToP6S/pErhx+c/PMrZiBPU5T8=",
           "dtype": "f8"
          },
          "coloraxis": "coloraxis",
          "size": 3,
          "symbol": "circle"
         },
         "mode": "markers",
         "name": "",
         "scene": "scene",
         "showlegend": false,
         "type": "scatter3d",
         "x": {
          "bdata": "mpmZmZmZuT+amZmZmZm5P5qZmZmZmbk/mpmZmZmZuT+amZmZmZm5P5qZmZmZmbk/mpmZmZmZuT+amZmZmZm5PzQzMzMzM9M/NDMzMzMz0z80MzMzMzPTPzQzMzMzM9M/NDMzMzMz0z80MzMzMzPTPzQzMzMzM9M/NDMzMzMz0z8BAAAAAADgPwEAAAAAAOA/AQAAAAAA4D8BAAAAAADgPwEAAAAAAOA/AQAAAAAA4D8BAAAAAADgPwEAAAAAAOA/Z2ZmZmZm5j9nZmZmZmbmP2dmZmZmZuY/Z2ZmZmZm5j9nZmZmZmbmP2dmZmZmZuY/Z2ZmZmZm5j9nZmZmZmbmP87MzMzMzOw/zszMzMzM7D/OzMzMzMzsP87MzMzMzOw/zszMzMzM7D/OzMzMzMzsP87MzMzMzOw/zszMzMzM7D8=",
          "dtype": "f8"
         },
         "y": {
          "bdata": "AQMFBwsPFR8BAwUHCw8VHwEDBQcLDxUfAQMFBwsPFR8BAwUHCw8VHw==",
          "dtype": "i1"
         },
         "z": {
          "bdata": "PoxL+S2Z5T+zuU4w+yTmP7ME507j2+U/Z75f8rIc5j/mzPl38z3kP1F/DiqqE+I/q+3g056c3z8jhYe3S8/dP0tVgTpKyOg/dj+kea2k5z9yKPz4vinoP1bVj3+oLOY/G8+IhUWv5D+tG0yRz/riP6BB2UmJE+M/grUzObFv4T//d7jMfpnoP8KVWN174ug/DjPlJKBZ6T9iCut3glDpP/1YXj3NHOg/oO6oIpkw5z+isRv8uGHmP+wolTHqb+U/bqe84XgC6T8iPLmOQyPpPzcXMYXW3uk/CpzACZzA6T/UJ+y/c+7oP/NTTIQS8Og//gFlo/YE5z/DVNq8n3LmP7z+q6s/uuk/4wVuxmRT6T/kGgHrjmTpP+Sno41fbuk/3C5buBOV6D/tXJGtO5ToP6S/pErhx+c/PMrZiBPU5T8=",
          "dtype": "f8"
         }
        }
       ],
       "layout": {
        "coloraxis": {
         "colorbar": {
          "title": {
           "text": "f1_macro"
          }
         },
         "colorscale": [
          [
           0,
           "#440154"
          ],
          [
           0.1111111111111111,
           "#482878"
          ],
          [
           0.2222222222222222,
           "#3e4989"
          ],
          [
           0.3333333333333333,
           "#31688e"
          ],
          [
           0.4444444444444444,
           "#26828e"
          ],
          [
           0.5555555555555556,
           "#1f9e89"
          ],
          [
           0.6666666666666666,
           "#35b779"
          ],
          [
           0.7777777777777778,
           "#6ece58"
          ],
          [
           0.8888888888888888,
           "#b5de2b"
          ],
          [
           1,
           "#fde725"
          ]
         ]
        },
        "height": 700,
        "legend": {
         "tracegroupgap": 0
        },
        "scene": {
         "domain": {
          "x": [
           0,
           1
          ],
          "y": [
           0,
           1
          ]
         },
         "xaxis": {
          "title": {
           "text": "Розмір навч. вибірки (%)"
          }
         },
         "yaxis": {
          "title": {
           "text": "Кількість сусідів (k)"
          }
         },
         "zaxis": {
          "title": {
           "text": "F1-macro"
          }
         }
        },
        "template": {
         "data": {
          "bar": [
           {
            "error_x": {
             "color": "#2a3f5f"
            },
            "error_y": {
             "color": "#2a3f5f"
            },
            "marker": {
             "line": {
              "color": "#E5ECF6",
              "width": 0.5
             },
             "pattern": {
              "fillmode": "overlay",
              "size": 10,
              "solidity": 0.2
             }
            },
            "type": "bar"
           }
          ],
          "barpolar": [
           {
            "marker": {
             "line": {
              "color": "#E5ECF6",
              "width": 0.5
             },
             "pattern": {
              "fillmode": "overlay",
              "size": 10,
              "solidity": 0.2
             }
            },
            "type": "barpolar"
           }
          ],
          "carpet": [
           {
            "aaxis": {
             "endlinecolor": "#2a3f5f",
             "gridcolor": "white",
             "linecolor": "white",
             "minorgridcolor": "white",
             "startlinecolor": "#2a3f5f"
            },
            "baxis": {
             "endlinecolor": "#2a3f5f",
             "gridcolor": "white",
             "linecolor": "white",
             "minorgridcolor": "white",
             "startlinecolor": "#2a3f5f"
            },
            "type": "carpet"
           }
          ],
          "choropleth": [
           {
            "colorbar": {
             "outlinewidth": 0,
             "ticks": ""
            },
            "type": "choropleth"
           }
          ],
          "contour": [
           {
            "colorbar": {
             "outlinewidth": 0,
             "ticks": ""
            },
            "colorscale": [
             [
              0,
              "#0d0887"
             ],
             [
              0.1111111111111111,
              "#46039f"
             ],
             [
              0.2222222222222222,
              "#7201a8"
             ],
             [
              0.3333333333333333,
              "#9c179e"
             ],
             [
              0.4444444444444444,
              "#bd3786"
             ],
             [
              0.5555555555555556,
              "#d8576b"
             ],
             [
              0.6666666666666666,
              "#ed7953"
             ],
             [
              0.7777777777777778,
              "#fb9f3a"
             ],
             [
              0.8888888888888888,
              "#fdca26"
             ],
             [
              1,
              "#f0f921"
             ]
            ],
            "type": "contour"
           }
          ],
          "contourcarpet": [
           {
            "colorbar": {
             "outlinewidth": 0,
             "ticks": ""
            },
            "type": "contourcarpet"
           }
          ],
          "heatmap": [
           {
            "colorbar": {
             "outlinewidth": 0,
             "ticks": ""
            },
            "colorscale": [
             [
              0,
              "#0d0887"
             ],
             [
              0.1111111111111111,
              "#46039f"
             ],
             [
              0.2222222222222222,
              "#7201a8"
             ],
             [
              0.3333333333333333,
              "#9c179e"
             ],
             [
              0.4444444444444444,
              "#bd3786"
             ],
             [
              0.5555555555555556,
              "#d8576b"
             ],
             [
              0.6666666666666666,
              "#ed7953"
             ],
             [
              0.7777777777777778,
              "#fb9f3a"
             ],
             [
              0.8888888888888888,
              "#fdca26"
             ],
             [
              1,
              "#f0f921"
             ]
            ],
            "type": "heatmap"
           }
          ],
          "histogram": [
           {
            "marker": {
             "pattern": {
              "fillmode": "overlay",
              "size": 10,
              "solidity": 0.2
             }
            },
            "type": "histogram"
           }
          ],
          "histogram2d": [
           {
            "colorbar": {
             "outlinewidth": 0,
             "ticks": ""
            },
            "colorscale": [
             [
              0,
              "#0d0887"
             ],
             [
              0.1111111111111111,
              "#46039f"
             ],
             [
              0.2222222222222222,
              "#7201a8"
             ],
             [
              0.3333333333333333,
              "#9c179e"
             ],
             [
              0.4444444444444444,
              "#bd3786"
             ],
             [
              0.5555555555555556,
              "#d8576b"
             ],
             [
              0.6666666666666666,
              "#ed7953"
             ],
             [
              0.7777777777777778,
              "#fb9f3a"
             ],
             [
              0.8888888888888888,
              "#fdca26"
             ],
             [
              1,
              "#f0f921"
             ]
            ],
            "type": "histogram2d"
           }
          ],
          "histogram2dcontour": [
           {
            "colorbar": {
             "outlinewidth": 0,
             "ticks": ""
            },
            "colorscale": [
             [
              0,
              "#0d0887"
             ],
             [
              0.1111111111111111,
              "#46039f"
             ],
             [
              0.2222222222222222,
              "#7201a8"
             ],
             [
              0.3333333333333333,
              "#9c179e"
             ],
             [
              0.4444444444444444,
              "#bd3786"
             ],
             [
              0.5555555555555556,
              "#d8576b"
             ],
             [
              0.6666666666666666,
              "#ed7953"
             ],
             [
              0.7777777777777778,
              "#fb9f3a"
             ],
             [
              0.8888888888888888,
              "#fdca26"
             ],
             [
              1,
              "#f0f921"
             ]
            ],
            "type": "histogram2dcontour"
           }
          ],
          "mesh3d": [
           {
            "colorbar": {
             "outlinewidth": 0,
             "ticks": ""
            },
            "type": "mesh3d"
           }
          ],
          "parcoords": [
           {
            "line": {
             "colorbar": {
              "outlinewidth": 0,
              "ticks": ""
             }
            },
            "type": "parcoords"
           }
          ],
          "pie": [
           {
            "automargin": true,
            "type": "pie"
           }
          ],
          "scatter": [
           {
            "fillpattern": {
             "fillmode": "overlay",
             "size": 10,
             "solidity": 0.2
            },
            "type": "scatter"
           }
          ],
          "scatter3d": [
           {
            "line": {
             "colorbar": {
              "outlinewidth": 0,
              "ticks": ""
             }
            },
            "marker": {
             "colorbar": {
              "outlinewidth": 0,
              "ticks": ""
             }
            },
            "type": "scatter3d"
           }
          ],
          "scattercarpet": [
           {
            "marker": {
             "colorbar": {
              "outlinewidth": 0,
              "ticks": ""
             }
            },
            "type": "scattercarpet"
           }
          ],
          "scattergeo": [
           {
            "marker": {
             "colorbar": {
              "outlinewidth": 0,
              "ticks": ""
             }
            },
            "type": "scattergeo"
           }
          ],
          "scattergl": [
           {
            "marker": {
             "colorbar": {
              "outlinewidth": 0,
              "ticks": ""
             }
            },
            "type": "scattergl"
           }
          ],
          "scattermap": [
           {
            "marker": {
             "colorbar": {
              "outlinewidth": 0,
              "ticks": ""
             }
            },
            "type": "scattermap"
           }
          ],
          "scattermapbox": [
           {
            "marker": {
             "colorbar": {
              "outlinewidth": 0,
              "ticks": ""
             }
            },
            "type": "scattermapbox"
           }
          ],
          "scatterpolar": [
           {
            "marker": {
             "colorbar": {
              "outlinewidth": 0,
              "ticks": ""
             }
            },
            "type": "scatterpolar"
           }
          ],
          "scatterpolargl": [
           {
            "marker": {
             "colorbar": {
              "outlinewidth": 0,
              "ticks": ""
             }
            },
            "type": "scatterpolargl"
           }
          ],
          "scatterternary": [
           {
            "marker": {
             "colorbar": {
              "outlinewidth": 0,
              "ticks": ""
             }
            },
            "type": "scatterternary"
           }
          ],
          "surface": [
           {
            "colorbar": {
             "outlinewidth": 0,
             "ticks": ""
            },
            "colorscale": [
             [
              0,
              "#0d0887"
             ],
             [
              0.1111111111111111,
              "#46039f"
             ],
             [
              0.2222222222222222,
              "#7201a8"
             ],
             [
              0.3333333333333333,
              "#9c179e"
             ],
             [
              0.4444444444444444,
              "#bd3786"
             ],
             [
              0.5555555555555556,
              "#d8576b"
             ],
             [
              0.6666666666666666,
              "#ed7953"
             ],
             [
              0.7777777777777778,
              "#fb9f3a"
             ],
             [
              0.8888888888888888,
              "#fdca26"
             ],
             [
              1,
              "#f0f921"
             ]
            ],
            "type": "surface"
           }
          ],
          "table": [
           {
            "cells": {
             "fill": {
              "color": "#EBF0F8"
             },
             "line": {
              "color": "white"
             }
            },
            "header": {
             "fill": {
              "color": "#C8D4E3"
             },
             "line": {
              "color": "white"
             }
            },
            "type": "table"
           }
          ]
         },
         "layout": {
          "annotationdefaults": {
           "arrowcolor": "#2a3f5f",
           "arrowhead": 0,
           "arrowwidth": 1
          },
          "autotypenumbers": "strict",
          "coloraxis": {
           "colorbar": {
            "outlinewidth": 0,
            "ticks": ""
           }
          },
          "colorscale": {
           "diverging": [
            [
             0,
             "#8e0152"
            ],
            [
             0.1,
             "#c51b7d"
            ],
            [
             0.2,
             "#de77ae"
            ],
            [
             0.3,
             "#f1b6da"
            ],
            [
             0.4,
             "#fde0ef"
            ],
            [
             0.5,
             "#f7f7f7"
            ],
            [
             0.6,
             "#e6f5d0"
            ],
            [
             0.7,
             "#b8e186"
            ],
            [
             0.8,
             "#7fbc41"
            ],
            [
             0.9,
             "#4d9221"
            ],
            [
             1,
             "#276419"
            ]
           ],
           "sequential": [
            [
             0,
             "#0d0887"
            ],
            [
             0.1111111111111111,
             "#46039f"
            ],
            [
             0.2222222222222222,
             "#7201a8"
            ],
            [
             0.3333333333333333,
             "#9c179e"
            ],
            [
             0.4444444444444444,
             "#bd3786"
            ],
            [
             0.5555555555555556,
             "#d8576b"
            ],
            [
             0.6666666666666666,
             "#ed7953"
            ],
            [
             0.7777777777777778,
             "#fb9f3a"
            ],
            [
             0.8888888888888888,
             "#fdca26"
            ],
            [
             1,
             "#f0f921"
            ]
           ],
           "sequentialminus": [
            [
             0,
             "#0d0887"
            ],
            [
             0.1111111111111111,
             "#46039f"
            ],
            [
             0.2222222222222222,
             "#7201a8"
            ],
            [
             0.3333333333333333,
             "#9c179e"
            ],
            [
             0.4444444444444444,
             "#bd3786"
            ],
            [
             0.5555555555555556,
             "#d8576b"
            ],
            [
             0.6666666666666666,
             "#ed7953"
            ],
            [
             0.7777777777777778,
             "#fb9f3a"
            ],
            [
             0.8888888888888888,
             "#fdca26"
            ],
            [
             1,
             "#f0f921"
            ]
           ]
          },
          "colorway": [
           "#636efa",
           "#EF553B",
           "#00cc96",
           "#ab63fa",
           "#FFA15A",
           "#19d3f3",
           "#FF6692",
           "#B6E880",
           "#FF97FF",
           "#FECB52"
          ],
          "font": {
           "color": "#2a3f5f"
          },
          "geo": {
           "bgcolor": "white",
           "lakecolor": "white",
           "landcolor": "#E5ECF6",
           "showlakes": true,
           "showland": true,
           "subunitcolor": "white"
          },
          "hoverlabel": {
           "align": "left"
          },
          "hovermode": "closest",
          "mapbox": {
           "style": "light"
          },
          "paper_bgcolor": "white",
          "plot_bgcolor": "#E5ECF6",
          "polar": {
           "angularaxis": {
            "gridcolor": "white",
            "linecolor": "white",
            "ticks": ""
           },
           "bgcolor": "#E5ECF6",
           "radialaxis": {
            "gridcolor": "white",
            "linecolor": "white",
            "ticks": ""
           }
          },
          "scene": {
           "xaxis": {
            "backgroundcolor": "#E5ECF6",
            "gridcolor": "white",
            "gridwidth": 2,
            "linecolor": "white",
            "showbackground": true,
            "ticks": "",
            "zerolinecolor": "white"
           },
           "yaxis": {
            "backgroundcolor": "#E5ECF6",
            "gridcolor": "white",
            "gridwidth": 2,
            "linecolor": "white",
            "showbackground": true,
            "ticks": "",
            "zerolinecolor": "white"
           },
           "zaxis": {
            "backgroundcolor": "#E5ECF6",
            "gridcolor": "white",
            "gridwidth": 2,
            "linecolor": "white",
            "showbackground": true,
            "ticks": "",
            "zerolinecolor": "white"
           }
          },
          "shapedefaults": {
           "line": {
            "color": "#2a3f5f"
           }
          },
          "ternary": {
           "aaxis": {
            "gridcolor": "white",
            "linecolor": "white",
            "ticks": ""
           },
           "baxis": {
            "gridcolor": "white",
            "linecolor": "white",
            "ticks": ""
           },
           "bgcolor": "#E5ECF6",
           "caxis": {
            "gridcolor": "white",
            "linecolor": "white",
            "ticks": ""
           }
          },
          "title": {
           "x": 0.05
          },
          "xaxis": {
           "automargin": true,
           "gridcolor": "white",
           "linecolor": "white",
           "ticks": "",
           "title": {
            "standoff": 15
           },
           "zerolinecolor": "white",
           "zerolinewidth": 2
          },
          "yaxis": {
           "automargin": true,
           "gridcolor": "white",
           "linecolor": "white",
           "ticks": "",
           "title": {
            "standoff": 15
           },
           "zerolinecolor": "white",
           "zerolinewidth": 2
          }
         }
        },
        "title": {
         "text": "k-NN F1-macro (Val) на NASA data, метрика=<b>euclidean</b>"
        },
        "width": 800
       }
      }
     },
     "metadata": {},
     "output_type": "display_data"
    },
    {
     "data": {
      "application/vnd.plotly.v1+json": {
       "config": {
        "plotlyServerURL": "https://plot.ly"
       },
       "data": [
        {
         "hovertemplate": "train_size_percent=%{x}<br>k=%{y}<br>f1_macro=%{marker.color}<extra></extra>",
         "legendgroup": "",
         "marker": {
          "color": {
           "bdata": "wtcMU1055z+Wyb1x+WPnP4a4zrgwy+Y/IQQljFZR5z9IvaOiZKLlP1LQOaBaCOQ/gMmJ24xD4D+XH5TnigXfP24JyVSdgug/8hW+yDNQ6D+qS2YB4xPoPz3FMKwEQOc/QJz/cP7D5T9yoY9FG0zkP35uuUKU/OI/xZhzLYyy4j9ZCPkkkI7oP06cU5lceek/sj/omlvg6T9mryPnZkPpP6iMyqiMyug/3tisCgba5z+gTINE/t/mP440x66usuU/eIcRW1E/6T/+Sjz9myvqP5SbdWQS5ek/UJP7K7C26T+ICz55onrpP4CTtl9Ms+k/8n6vb0zw6D8MvMi4dRbnPzJH+wTj2ek/JCOEI4jJ6j+Ao/tGHgrqP2J7r/PTieo/Mju+MJ8Z6j+8xBQqP6DpPxZswRZsQeg/thxRYSIo5z8=",
           "dtype": "f8"
          },
          "coloraxis": "coloraxis",
          "size": 3,
          "symbol": "circle"
         },
         "mode": "markers",
         "name": "",
         "scene": "scene",
         "showlegend": false,
         "type": "scatter3d",
         "x": {
          "bdata": "mpmZmZmZuT+amZmZmZm5P5qZmZmZmbk/mpmZmZmZuT+amZmZmZm5P5qZmZmZmbk/mpmZmZmZuT+amZmZmZm5PzQzMzMzM9M/NDMzMzMz0z80MzMzMzPTPzQzMzMzM9M/NDMzMzMz0z80MzMzMzPTPzQzMzMzM9M/NDMzMzMz0z8BAAAAAADgPwEAAAAAAOA/AQAAAAAA4D8BAAAAAADgPwEAAAAAAOA/AQAAAAAA4D8BAAAAAADgPwEAAAAAAOA/Z2ZmZmZm5j9nZmZmZmbmP2dmZmZmZuY/Z2ZmZmZm5j9nZmZmZmbmP2dmZmZmZuY/Z2ZmZmZm5j9nZmZmZmbmP87MzMzMzOw/zszMzMzM7D/OzMzMzMzsP87MzMzMzOw/zszMzMzM7D/OzMzMzMzsP87MzMzMzOw/zszMzMzM7D8=",
          "dtype": "f8"
         },
         "y": {
          "bdata": "AQMFBwsPFR8BAwUHCw8VHwEDBQcLDxUfAQMFBwsPFR8BAwUHCw8VHw==",
          "dtype": "i1"
         },
         "z": {
          "bdata": "wtcMU1055z+Wyb1x+WPnP4a4zrgwy+Y/IQQljFZR5z9IvaOiZKLlP1LQOaBaCOQ/gMmJ24xD4D+XH5TnigXfP24JyVSdgug/8hW+yDNQ6D+qS2YB4xPoPz3FMKwEQOc/QJz/cP7D5T9yoY9FG0zkP35uuUKU/OI/xZhzLYyy4j9ZCPkkkI7oP06cU5lceek/sj/omlvg6T9mryPnZkPpP6iMyqiMyug/3tisCgba5z+gTINE/t/mP440x66usuU/eIcRW1E/6T/+Sjz9myvqP5SbdWQS5ek/UJP7K7C26T+ICz55onrpP4CTtl9Ms+k/8n6vb0zw6D8MvMi4dRbnPzJH+wTj2ek/JCOEI4jJ6j+Ao/tGHgrqP2J7r/PTieo/Mju+MJ8Z6j+8xBQqP6DpPxZswRZsQeg/thxRYSIo5z8=",
          "dtype": "f8"
         }
        }
       ],
       "layout": {
        "coloraxis": {
         "colorbar": {
          "title": {
           "text": "f1_macro"
          }
         },
         "colorscale": [
          [
           0,
           "#440154"
          ],
          [
           0.1111111111111111,
           "#482878"
          ],
          [
           0.2222222222222222,
           "#3e4989"
          ],
          [
           0.3333333333333333,
           "#31688e"
          ],
          [
           0.4444444444444444,
           "#26828e"
          ],
          [
           0.5555555555555556,
           "#1f9e89"
          ],
          [
           0.6666666666666666,
           "#35b779"
          ],
          [
           0.7777777777777778,
           "#6ece58"
          ],
          [
           0.8888888888888888,
           "#b5de2b"
          ],
          [
           1,
           "#fde725"
          ]
         ]
        },
        "height": 700,
        "legend": {
         "tracegroupgap": 0
        },
        "scene": {
         "domain": {
          "x": [
           0,
           1
          ],
          "y": [
           0,
           1
          ]
         },
         "xaxis": {
          "title": {
           "text": "Розмір навч. вибірки (%)"
          }
         },
         "yaxis": {
          "title": {
           "text": "Кількість сусідів (k)"
          }
         },
         "zaxis": {
          "title": {
           "text": "F1-macro"
          }
         }
        },
        "template": {
         "data": {
          "bar": [
           {
            "error_x": {
             "color": "#2a3f5f"
            },
            "error_y": {
             "color": "#2a3f5f"
            },
            "marker": {
             "line": {
              "color": "#E5ECF6",
              "width": 0.5
             },
             "pattern": {
              "fillmode": "overlay",
              "size": 10,
              "solidity": 0.2
             }
            },
            "type": "bar"
           }
          ],
          "barpolar": [
           {
            "marker": {
             "line": {
              "color": "#E5ECF6",
              "width": 0.5
             },
             "pattern": {
              "fillmode": "overlay",
              "size": 10,
              "solidity": 0.2
             }
            },
            "type": "barpolar"
           }
          ],
          "carpet": [
           {
            "aaxis": {
             "endlinecolor": "#2a3f5f",
             "gridcolor": "white",
             "linecolor": "white",
             "minorgridcolor": "white",
             "startlinecolor": "#2a3f5f"
            },
            "baxis": {
             "endlinecolor": "#2a3f5f",
             "gridcolor": "white",
             "linecolor": "white",
             "minorgridcolor": "white",
             "startlinecolor": "#2a3f5f"
            },
            "type": "carpet"
           }
          ],
          "choropleth": [
           {
            "colorbar": {
             "outlinewidth": 0,
             "ticks": ""
            },
            "type": "choropleth"
           }
          ],
          "contour": [
           {
            "colorbar": {
             "outlinewidth": 0,
             "ticks": ""
            },
            "colorscale": [
             [
              0,
              "#0d0887"
             ],
             [
              0.1111111111111111,
              "#46039f"
             ],
             [
              0.2222222222222222,
              "#7201a8"
             ],
             [
              0.3333333333333333,
              "#9c179e"
             ],
             [
              0.4444444444444444,
              "#bd3786"
             ],
             [
              0.5555555555555556,
              "#d8576b"
             ],
             [
              0.6666666666666666,
              "#ed7953"
             ],
             [
              0.7777777777777778,
              "#fb9f3a"
             ],
             [
              0.8888888888888888,
              "#fdca26"
             ],
             [
              1,
              "#f0f921"
             ]
            ],
            "type": "contour"
           }
          ],
          "contourcarpet": [
           {
            "colorbar": {
             "outlinewidth": 0,
             "ticks": ""
            },
            "type": "contourcarpet"
           }
          ],
          "heatmap": [
           {
            "colorbar": {
             "outlinewidth": 0,
             "ticks": ""
            },
            "colorscale": [
             [
              0,
              "#0d0887"
             ],
             [
              0.1111111111111111,
              "#46039f"
             ],
             [
              0.2222222222222222,
              "#7201a8"
             ],
             [
              0.3333333333333333,
              "#9c179e"
             ],
             [
              0.4444444444444444,
              "#bd3786"
             ],
             [
              0.5555555555555556,
              "#d8576b"
             ],
             [
              0.6666666666666666,
              "#ed7953"
             ],
             [
              0.7777777777777778,
              "#fb9f3a"
             ],
             [
              0.8888888888888888,
              "#fdca26"
             ],
             [
              1,
              "#f0f921"
             ]
            ],
            "type": "heatmap"
           }
          ],
          "histogram": [
           {
            "marker": {
             "pattern": {
              "fillmode": "overlay",
              "size": 10,
              "solidity": 0.2
             }
            },
            "type": "histogram"
           }
          ],
          "histogram2d": [
           {
            "colorbar": {
             "outlinewidth": 0,
             "ticks": ""
            },
            "colorscale": [
             [
              0,
              "#0d0887"
             ],
             [
              0.1111111111111111,
              "#46039f"
             ],
             [
              0.2222222222222222,
              "#7201a8"
             ],
             [
              0.3333333333333333,
              "#9c179e"
             ],
             [
              0.4444444444444444,
              "#bd3786"
             ],
             [
              0.5555555555555556,
              "#d8576b"
             ],
             [
              0.6666666666666666,
              "#ed7953"
             ],
             [
              0.7777777777777778,
              "#fb9f3a"
             ],
             [
              0.8888888888888888,
              "#fdca26"
             ],
             [
              1,
              "#f0f921"
             ]
            ],
            "type": "histogram2d"
           }
          ],
          "histogram2dcontour": [
           {
            "colorbar": {
             "outlinewidth": 0,
             "ticks": ""
            },
            "colorscale": [
             [
              0,
              "#0d0887"
             ],
             [
              0.1111111111111111,
              "#46039f"
             ],
             [
              0.2222222222222222,
              "#7201a8"
             ],
             [
              0.3333333333333333,
              "#9c179e"
             ],
             [
              0.4444444444444444,
              "#bd3786"
             ],
             [
              0.5555555555555556,
              "#d8576b"
             ],
             [
              0.6666666666666666,
              "#ed7953"
             ],
             [
              0.7777777777777778,
              "#fb9f3a"
             ],
             [
              0.8888888888888888,
              "#fdca26"
             ],
             [
              1,
              "#f0f921"
             ]
            ],
            "type": "histogram2dcontour"
           }
          ],
          "mesh3d": [
           {
            "colorbar": {
             "outlinewidth": 0,
             "ticks": ""
            },
            "type": "mesh3d"
           }
          ],
          "parcoords": [
           {
            "line": {
             "colorbar": {
              "outlinewidth": 0,
              "ticks": ""
             }
            },
            "type": "parcoords"
           }
          ],
          "pie": [
           {
            "automargin": true,
            "type": "pie"
           }
          ],
          "scatter": [
           {
            "fillpattern": {
             "fillmode": "overlay",
             "size": 10,
             "solidity": 0.2
            },
            "type": "scatter"
           }
          ],
          "scatter3d": [
           {
            "line": {
             "colorbar": {
              "outlinewidth": 0,
              "ticks": ""
             }
            },
            "marker": {
             "colorbar": {
              "outlinewidth": 0,
              "ticks": ""
             }
            },
            "type": "scatter3d"
           }
          ],
          "scattercarpet": [
           {
            "marker": {
             "colorbar": {
              "outlinewidth": 0,
              "ticks": ""
             }
            },
            "type": "scattercarpet"
           }
          ],
          "scattergeo": [
           {
            "marker": {
             "colorbar": {
              "outlinewidth": 0,
              "ticks": ""
             }
            },
            "type": "scattergeo"
           }
          ],
          "scattergl": [
           {
            "marker": {
             "colorbar": {
              "outlinewidth": 0,
              "ticks": ""
             }
            },
            "type": "scattergl"
           }
          ],
          "scattermap": [
           {
            "marker": {
             "colorbar": {
              "outlinewidth": 0,
              "ticks": ""
             }
            },
            "type": "scattermap"
           }
          ],
          "scattermapbox": [
           {
            "marker": {
             "colorbar": {
              "outlinewidth": 0,
              "ticks": ""
             }
            },
            "type": "scattermapbox"
           }
          ],
          "scatterpolar": [
           {
            "marker": {
             "colorbar": {
              "outlinewidth": 0,
              "ticks": ""
             }
            },
            "type": "scatterpolar"
           }
          ],
          "scatterpolargl": [
           {
            "marker": {
             "colorbar": {
              "outlinewidth": 0,
              "ticks": ""
             }
            },
            "type": "scatterpolargl"
           }
          ],
          "scatterternary": [
           {
            "marker": {
             "colorbar": {
              "outlinewidth": 0,
              "ticks": ""
             }
            },
            "type": "scatterternary"
           }
          ],
          "surface": [
           {
            "colorbar": {
             "outlinewidth": 0,
             "ticks": ""
            },
            "colorscale": [
             [
              0,
              "#0d0887"
             ],
             [
              0.1111111111111111,
              "#46039f"
             ],
             [
              0.2222222222222222,
              "#7201a8"
             ],
             [
              0.3333333333333333,
              "#9c179e"
             ],
             [
              0.4444444444444444,
              "#bd3786"
             ],
             [
              0.5555555555555556,
              "#d8576b"
             ],
             [
              0.6666666666666666,
              "#ed7953"
             ],
             [
              0.7777777777777778,
              "#fb9f3a"
             ],
             [
              0.8888888888888888,
              "#fdca26"
             ],
             [
              1,
              "#f0f921"
             ]
            ],
            "type": "surface"
           }
          ],
          "table": [
           {
            "cells": {
             "fill": {
              "color": "#EBF0F8"
             },
             "line": {
              "color": "white"
             }
            },
            "header": {
             "fill": {
              "color": "#C8D4E3"
             },
             "line": {
              "color": "white"
             }
            },
            "type": "table"
           }
          ]
         },
         "layout": {
          "annotationdefaults": {
           "arrowcolor": "#2a3f5f",
           "arrowhead": 0,
           "arrowwidth": 1
          },
          "autotypenumbers": "strict",
          "coloraxis": {
           "colorbar": {
            "outlinewidth": 0,
            "ticks": ""
           }
          },
          "colorscale": {
           "diverging": [
            [
             0,
             "#8e0152"
            ],
            [
             0.1,
             "#c51b7d"
            ],
            [
             0.2,
             "#de77ae"
            ],
            [
             0.3,
             "#f1b6da"
            ],
            [
             0.4,
             "#fde0ef"
            ],
            [
             0.5,
             "#f7f7f7"
            ],
            [
             0.6,
             "#e6f5d0"
            ],
            [
             0.7,
             "#b8e186"
            ],
            [
             0.8,
             "#7fbc41"
            ],
            [
             0.9,
             "#4d9221"
            ],
            [
             1,
             "#276419"
            ]
           ],
           "sequential": [
            [
             0,
             "#0d0887"
            ],
            [
             0.1111111111111111,
             "#46039f"
            ],
            [
             0.2222222222222222,
             "#7201a8"
            ],
            [
             0.3333333333333333,
             "#9c179e"
            ],
            [
             0.4444444444444444,
             "#bd3786"
            ],
            [
             0.5555555555555556,
             "#d8576b"
            ],
            [
             0.6666666666666666,
             "#ed7953"
            ],
            [
             0.7777777777777778,
             "#fb9f3a"
            ],
            [
             0.8888888888888888,
             "#fdca26"
            ],
            [
             1,
             "#f0f921"
            ]
           ],
           "sequentialminus": [
            [
             0,
             "#0d0887"
            ],
            [
             0.1111111111111111,
             "#46039f"
            ],
            [
             0.2222222222222222,
             "#7201a8"
            ],
            [
             0.3333333333333333,
             "#9c179e"
            ],
            [
             0.4444444444444444,
             "#bd3786"
            ],
            [
             0.5555555555555556,
             "#d8576b"
            ],
            [
             0.6666666666666666,
             "#ed7953"
            ],
            [
             0.7777777777777778,
             "#fb9f3a"
            ],
            [
             0.8888888888888888,
             "#fdca26"
            ],
            [
             1,
             "#f0f921"
            ]
           ]
          },
          "colorway": [
           "#636efa",
           "#EF553B",
           "#00cc96",
           "#ab63fa",
           "#FFA15A",
           "#19d3f3",
           "#FF6692",
           "#B6E880",
           "#FF97FF",
           "#FECB52"
          ],
          "font": {
           "color": "#2a3f5f"
          },
          "geo": {
           "bgcolor": "white",
           "lakecolor": "white",
           "landcolor": "#E5ECF6",
           "showlakes": true,
           "showland": true,
           "subunitcolor": "white"
          },
          "hoverlabel": {
           "align": "left"
          },
          "hovermode": "closest",
          "mapbox": {
           "style": "light"
          },
          "paper_bgcolor": "white",
          "plot_bgcolor": "#E5ECF6",
          "polar": {
           "angularaxis": {
            "gridcolor": "white",
            "linecolor": "white",
            "ticks": ""
           },
           "bgcolor": "#E5ECF6",
           "radialaxis": {
            "gridcolor": "white",
            "linecolor": "white",
            "ticks": ""
           }
          },
          "scene": {
           "xaxis": {
            "backgroundcolor": "#E5ECF6",
            "gridcolor": "white",
            "gridwidth": 2,
            "linecolor": "white",
            "showbackground": true,
            "ticks": "",
            "zerolinecolor": "white"
           },
           "yaxis": {
            "backgroundcolor": "#E5ECF6",
            "gridcolor": "white",
            "gridwidth": 2,
            "linecolor": "white",
            "showbackground": true,
            "ticks": "",
            "zerolinecolor": "white"
           },
           "zaxis": {
            "backgroundcolor": "#E5ECF6",
            "gridcolor": "white",
            "gridwidth": 2,
            "linecolor": "white",
            "showbackground": true,
            "ticks": "",
            "zerolinecolor": "white"
           }
          },
          "shapedefaults": {
           "line": {
            "color": "#2a3f5f"
           }
          },
          "ternary": {
           "aaxis": {
            "gridcolor": "white",
            "linecolor": "white",
            "ticks": ""
           },
           "baxis": {
            "gridcolor": "white",
            "linecolor": "white",
            "ticks": ""
           },
           "bgcolor": "#E5ECF6",
           "caxis": {
            "gridcolor": "white",
            "linecolor": "white",
            "ticks": ""
           }
          },
          "title": {
           "x": 0.05
          },
          "xaxis": {
           "automargin": true,
           "gridcolor": "white",
           "linecolor": "white",
           "ticks": "",
           "title": {
            "standoff": 15
           },
           "zerolinecolor": "white",
           "zerolinewidth": 2
          },
          "yaxis": {
           "automargin": true,
           "gridcolor": "white",
           "linecolor": "white",
           "ticks": "",
           "title": {
            "standoff": 15
           },
           "zerolinecolor": "white",
           "zerolinewidth": 2
          }
         }
        },
        "title": {
         "text": "k-NN F1-macro (Val) на NASA data, метрика=<b>manhattan</b>"
        },
        "width": 800
       }
      }
     },
     "metadata": {},
     "output_type": "display_data"
    },
    {
     "data": {
      "application/vnd.plotly.v1+json": {
       "config": {
        "plotlyServerURL": "https://plot.ly"
       },
       "data": [
        {
         "hovertemplate": "train_size_percent=%{x}<br>k=%{y}<br>f1_macro=%{marker.color}<extra></extra>",
         "legendgroup": "",
         "marker": {
          "color": {
           "bdata": "C6zSnlOr5T8jMLblR2flP1r61Yv+wOQ/jvkAubWL5D/sQgP7qdbiP1F/DiqqE+I/JoOl4QpT4T9GIkD0ymveP0VfuPGXuOg/lsm9cflj5z/nbA/eB1/mPxgAFYrmheU/LGDO/qq24z+8VURJPkjjP6izP8d7buM/03wEmH3e4D+AGtHYjf/oP6rJcrI/lOg/2PnpRMW36D8VwTO87l7nP5Q+6ZM+qeY/ieQ41PdY5j/C5KbsCjXlPwgG/7mcp+Q/LoD49ZWw6T8WWG3yoiDpPz7rvdKRtug/gOImWYrI6D9SA0hiHxHoPyebnU+WXuc/zTDrl4HR5j8j5OdXliLmP56h387WGeo/uqNU5vQP6T/6SpvNnqboP9j56UTFt+g/XkasIKfs6D9ogWZa+zboP/7achP3euc/XqNHFW9A5j8=",
           "dtype": "f8"
          },
          "coloraxis": "coloraxis",
          "size": 3,
          "symbol": "circle"
         },
         "mode": "markers",
         "name": "",
         "scene": "scene",
         "showlegend": false,
         "type": "scatter3d",
         "x": {
          "bdata": "mpmZmZmZuT+amZmZmZm5P5qZmZmZmbk/mpmZmZmZuT+amZmZmZm5P5qZmZmZmbk/mpmZmZmZuT+amZmZmZm5PzQzMzMzM9M/NDMzMzMz0z80MzMzMzPTPzQzMzMzM9M/NDMzMzMz0z80MzMzMzPTPzQzMzMzM9M/NDMzMzMz0z8BAAAAAADgPwEAAAAAAOA/AQAAAAAA4D8BAAAAAADgPwEAAAAAAOA/AQAAAAAA4D8BAAAAAADgPwEAAAAAAOA/Z2ZmZmZm5j9nZmZmZmbmP2dmZmZmZuY/Z2ZmZmZm5j9nZmZmZmbmP2dmZmZmZuY/Z2ZmZmZm5j9nZmZmZmbmP87MzMzMzOw/zszMzMzM7D/OzMzMzMzsP87MzMzMzOw/zszMzMzM7D/OzMzMzMzsP87MzMzMzOw/zszMzMzM7D8=",
          "dtype": "f8"
         },
         "y": {
          "bdata": "AQMFBwsPFR8BAwUHCw8VHwEDBQcLDxUfAQMFBwsPFR8BAwUHCw8VHw==",
          "dtype": "i1"
         },
         "z": {
          "bdata": "C6zSnlOr5T8jMLblR2flP1r61Yv+wOQ/jvkAubWL5D/sQgP7qdbiP1F/DiqqE+I/JoOl4QpT4T9GIkD0ymveP0VfuPGXuOg/lsm9cflj5z/nbA/eB1/mPxgAFYrmheU/LGDO/qq24z+8VURJPkjjP6izP8d7buM/03wEmH3e4D+AGtHYjf/oP6rJcrI/lOg/2PnpRMW36D8VwTO87l7nP5Q+6ZM+qeY/ieQ41PdY5j/C5KbsCjXlPwgG/7mcp+Q/LoD49ZWw6T8WWG3yoiDpPz7rvdKRtug/gOImWYrI6D9SA0hiHxHoPyebnU+WXuc/zTDrl4HR5j8j5OdXliLmP56h387WGeo/uqNU5vQP6T/6SpvNnqboP9j56UTFt+g/XkasIKfs6D9ogWZa+zboP/7achP3euc/XqNHFW9A5j8=",
          "dtype": "f8"
         }
        }
       ],
       "layout": {
        "coloraxis": {
         "colorbar": {
          "title": {
           "text": "f1_macro"
          }
         },
         "colorscale": [
          [
           0,
           "#440154"
          ],
          [
           0.1111111111111111,
           "#482878"
          ],
          [
           0.2222222222222222,
           "#3e4989"
          ],
          [
           0.3333333333333333,
           "#31688e"
          ],
          [
           0.4444444444444444,
           "#26828e"
          ],
          [
           0.5555555555555556,
           "#1f9e89"
          ],
          [
           0.6666666666666666,
           "#35b779"
          ],
          [
           0.7777777777777778,
           "#6ece58"
          ],
          [
           0.8888888888888888,
           "#b5de2b"
          ],
          [
           1,
           "#fde725"
          ]
         ]
        },
        "height": 700,
        "legend": {
         "tracegroupgap": 0
        },
        "scene": {
         "domain": {
          "x": [
           0,
           1
          ],
          "y": [
           0,
           1
          ]
         },
         "xaxis": {
          "title": {
           "text": "Розмір навч. вибірки (%)"
          }
         },
         "yaxis": {
          "title": {
           "text": "Кількість сусідів (k)"
          }
         },
         "zaxis": {
          "title": {
           "text": "F1-macro"
          }
         }
        },
        "template": {
         "data": {
          "bar": [
           {
            "error_x": {
             "color": "#2a3f5f"
            },
            "error_y": {
             "color": "#2a3f5f"
            },
            "marker": {
             "line": {
              "color": "#E5ECF6",
              "width": 0.5
             },
             "pattern": {
              "fillmode": "overlay",
              "size": 10,
              "solidity": 0.2
             }
            },
            "type": "bar"
           }
          ],
          "barpolar": [
           {
            "marker": {
             "line": {
              "color": "#E5ECF6",
              "width": 0.5
             },
             "pattern": {
              "fillmode": "overlay",
              "size": 10,
              "solidity": 0.2
             }
            },
            "type": "barpolar"
           }
          ],
          "carpet": [
           {
            "aaxis": {
             "endlinecolor": "#2a3f5f",
             "gridcolor": "white",
             "linecolor": "white",
             "minorgridcolor": "white",
             "startlinecolor": "#2a3f5f"
            },
            "baxis": {
             "endlinecolor": "#2a3f5f",
             "gridcolor": "white",
             "linecolor": "white",
             "minorgridcolor": "white",
             "startlinecolor": "#2a3f5f"
            },
            "type": "carpet"
           }
          ],
          "choropleth": [
           {
            "colorbar": {
             "outlinewidth": 0,
             "ticks": ""
            },
            "type": "choropleth"
           }
          ],
          "contour": [
           {
            "colorbar": {
             "outlinewidth": 0,
             "ticks": ""
            },
            "colorscale": [
             [
              0,
              "#0d0887"
             ],
             [
              0.1111111111111111,
              "#46039f"
             ],
             [
              0.2222222222222222,
              "#7201a8"
             ],
             [
              0.3333333333333333,
              "#9c179e"
             ],
             [
              0.4444444444444444,
              "#bd3786"
             ],
             [
              0.5555555555555556,
              "#d8576b"
             ],
             [
              0.6666666666666666,
              "#ed7953"
             ],
             [
              0.7777777777777778,
              "#fb9f3a"
             ],
             [
              0.8888888888888888,
              "#fdca26"
             ],
             [
              1,
              "#f0f921"
             ]
            ],
            "type": "contour"
           }
          ],
          "contourcarpet": [
           {
            "colorbar": {
             "outlinewidth": 0,
             "ticks": ""
            },
            "type": "contourcarpet"
           }
          ],
          "heatmap": [
           {
            "colorbar": {
             "outlinewidth": 0,
             "ticks": ""
            },
            "colorscale": [
             [
              0,
              "#0d0887"
             ],
             [
              0.1111111111111111,
              "#46039f"
             ],
             [
              0.2222222222222222,
              "#7201a8"
             ],
             [
              0.3333333333333333,
              "#9c179e"
             ],
             [
              0.4444444444444444,
              "#bd3786"
             ],
             [
              0.5555555555555556,
              "#d8576b"
             ],
             [
              0.6666666666666666,
              "#ed7953"
             ],
             [
              0.7777777777777778,
              "#fb9f3a"
             ],
             [
              0.8888888888888888,
              "#fdca26"
             ],
             [
              1,
              "#f0f921"
             ]
            ],
            "type": "heatmap"
           }
          ],
          "histogram": [
           {
            "marker": {
             "pattern": {
              "fillmode": "overlay",
              "size": 10,
              "solidity": 0.2
             }
            },
            "type": "histogram"
           }
          ],
          "histogram2d": [
           {
            "colorbar": {
             "outlinewidth": 0,
             "ticks": ""
            },
            "colorscale": [
             [
              0,
              "#0d0887"
             ],
             [
              0.1111111111111111,
              "#46039f"
             ],
             [
              0.2222222222222222,
              "#7201a8"
             ],
             [
              0.3333333333333333,
              "#9c179e"
             ],
             [
              0.4444444444444444,
              "#bd3786"
             ],
             [
              0.5555555555555556,
              "#d8576b"
             ],
             [
              0.6666666666666666,
              "#ed7953"
             ],
             [
              0.7777777777777778,
              "#fb9f3a"
             ],
             [
              0.8888888888888888,
              "#fdca26"
             ],
             [
              1,
              "#f0f921"
             ]
            ],
            "type": "histogram2d"
           }
          ],
          "histogram2dcontour": [
           {
            "colorbar": {
             "outlinewidth": 0,
             "ticks": ""
            },
            "colorscale": [
             [
              0,
              "#0d0887"
             ],
             [
              0.1111111111111111,
              "#46039f"
             ],
             [
              0.2222222222222222,
              "#7201a8"
             ],
             [
              0.3333333333333333,
              "#9c179e"
             ],
             [
              0.4444444444444444,
              "#bd3786"
             ],
             [
              0.5555555555555556,
              "#d8576b"
             ],
             [
              0.6666666666666666,
              "#ed7953"
             ],
             [
              0.7777777777777778,
              "#fb9f3a"
             ],
             [
              0.8888888888888888,
              "#fdca26"
             ],
             [
              1,
              "#f0f921"
             ]
            ],
            "type": "histogram2dcontour"
           }
          ],
          "mesh3d": [
           {
            "colorbar": {
             "outlinewidth": 0,
             "ticks": ""
            },
            "type": "mesh3d"
           }
          ],
          "parcoords": [
           {
            "line": {
             "colorbar": {
              "outlinewidth": 0,
              "ticks": ""
             }
            },
            "type": "parcoords"
           }
          ],
          "pie": [
           {
            "automargin": true,
            "type": "pie"
           }
          ],
          "scatter": [
           {
            "fillpattern": {
             "fillmode": "overlay",
             "size": 10,
             "solidity": 0.2
            },
            "type": "scatter"
           }
          ],
          "scatter3d": [
           {
            "line": {
             "colorbar": {
              "outlinewidth": 0,
              "ticks": ""
             }
            },
            "marker": {
             "colorbar": {
              "outlinewidth": 0,
              "ticks": ""
             }
            },
            "type": "scatter3d"
           }
          ],
          "scattercarpet": [
           {
            "marker": {
             "colorbar": {
              "outlinewidth": 0,
              "ticks": ""
             }
            },
            "type": "scattercarpet"
           }
          ],
          "scattergeo": [
           {
            "marker": {
             "colorbar": {
              "outlinewidth": 0,
              "ticks": ""
             }
            },
            "type": "scattergeo"
           }
          ],
          "scattergl": [
           {
            "marker": {
             "colorbar": {
              "outlinewidth": 0,
              "ticks": ""
             }
            },
            "type": "scattergl"
           }
          ],
          "scattermap": [
           {
            "marker": {
             "colorbar": {
              "outlinewidth": 0,
              "ticks": ""
             }
            },
            "type": "scattermap"
           }
          ],
          "scattermapbox": [
           {
            "marker": {
             "colorbar": {
              "outlinewidth": 0,
              "ticks": ""
             }
            },
            "type": "scattermapbox"
           }
          ],
          "scatterpolar": [
           {
            "marker": {
             "colorbar": {
              "outlinewidth": 0,
              "ticks": ""
             }
            },
            "type": "scatterpolar"
           }
          ],
          "scatterpolargl": [
           {
            "marker": {
             "colorbar": {
              "outlinewidth": 0,
              "ticks": ""
             }
            },
            "type": "scatterpolargl"
           }
          ],
          "scatterternary": [
           {
            "marker": {
             "colorbar": {
              "outlinewidth": 0,
              "ticks": ""
             }
            },
            "type": "scatterternary"
           }
          ],
          "surface": [
           {
            "colorbar": {
             "outlinewidth": 0,
             "ticks": ""
            },
            "colorscale": [
             [
              0,
              "#0d0887"
             ],
             [
              0.1111111111111111,
              "#46039f"
             ],
             [
              0.2222222222222222,
              "#7201a8"
             ],
             [
              0.3333333333333333,
              "#9c179e"
             ],
             [
              0.4444444444444444,
              "#bd3786"
             ],
             [
              0.5555555555555556,
              "#d8576b"
             ],
             [
              0.6666666666666666,
              "#ed7953"
             ],
             [
              0.7777777777777778,
              "#fb9f3a"
             ],
             [
              0.8888888888888888,
              "#fdca26"
             ],
             [
              1,
              "#f0f921"
             ]
            ],
            "type": "surface"
           }
          ],
          "table": [
           {
            "cells": {
             "fill": {
              "color": "#EBF0F8"
             },
             "line": {
              "color": "white"
             }
            },
            "header": {
             "fill": {
              "color": "#C8D4E3"
             },
             "line": {
              "color": "white"
             }
            },
            "type": "table"
           }
          ]
         },
         "layout": {
          "annotationdefaults": {
           "arrowcolor": "#2a3f5f",
           "arrowhead": 0,
           "arrowwidth": 1
          },
          "autotypenumbers": "strict",
          "coloraxis": {
           "colorbar": {
            "outlinewidth": 0,
            "ticks": ""
           }
          },
          "colorscale": {
           "diverging": [
            [
             0,
             "#8e0152"
            ],
            [
             0.1,
             "#c51b7d"
            ],
            [
             0.2,
             "#de77ae"
            ],
            [
             0.3,
             "#f1b6da"
            ],
            [
             0.4,
             "#fde0ef"
            ],
            [
             0.5,
             "#f7f7f7"
            ],
            [
             0.6,
             "#e6f5d0"
            ],
            [
             0.7,
             "#b8e186"
            ],
            [
             0.8,
             "#7fbc41"
            ],
            [
             0.9,
             "#4d9221"
            ],
            [
             1,
             "#276419"
            ]
           ],
           "sequential": [
            [
             0,
             "#0d0887"
            ],
            [
             0.1111111111111111,
             "#46039f"
            ],
            [
             0.2222222222222222,
             "#7201a8"
            ],
            [
             0.3333333333333333,
             "#9c179e"
            ],
            [
             0.4444444444444444,
             "#bd3786"
            ],
            [
             0.5555555555555556,
             "#d8576b"
            ],
            [
             0.6666666666666666,
             "#ed7953"
            ],
            [
             0.7777777777777778,
             "#fb9f3a"
            ],
            [
             0.8888888888888888,
             "#fdca26"
            ],
            [
             1,
             "#f0f921"
            ]
           ],
           "sequentialminus": [
            [
             0,
             "#0d0887"
            ],
            [
             0.1111111111111111,
             "#46039f"
            ],
            [
             0.2222222222222222,
             "#7201a8"
            ],
            [
             0.3333333333333333,
             "#9c179e"
            ],
            [
             0.4444444444444444,
             "#bd3786"
            ],
            [
             0.5555555555555556,
             "#d8576b"
            ],
            [
             0.6666666666666666,
             "#ed7953"
            ],
            [
             0.7777777777777778,
             "#fb9f3a"
            ],
            [
             0.8888888888888888,
             "#fdca26"
            ],
            [
             1,
             "#f0f921"
            ]
           ]
          },
          "colorway": [
           "#636efa",
           "#EF553B",
           "#00cc96",
           "#ab63fa",
           "#FFA15A",
           "#19d3f3",
           "#FF6692",
           "#B6E880",
           "#FF97FF",
           "#FECB52"
          ],
          "font": {
           "color": "#2a3f5f"
          },
          "geo": {
           "bgcolor": "white",
           "lakecolor": "white",
           "landcolor": "#E5ECF6",
           "showlakes": true,
           "showland": true,
           "subunitcolor": "white"
          },
          "hoverlabel": {
           "align": "left"
          },
          "hovermode": "closest",
          "mapbox": {
           "style": "light"
          },
          "paper_bgcolor": "white",
          "plot_bgcolor": "#E5ECF6",
          "polar": {
           "angularaxis": {
            "gridcolor": "white",
            "linecolor": "white",
            "ticks": ""
           },
           "bgcolor": "#E5ECF6",
           "radialaxis": {
            "gridcolor": "white",
            "linecolor": "white",
            "ticks": ""
           }
          },
          "scene": {
           "xaxis": {
            "backgroundcolor": "#E5ECF6",
            "gridcolor": "white",
            "gridwidth": 2,
            "linecolor": "white",
            "showbackground": true,
            "ticks": "",
            "zerolinecolor": "white"
           },
           "yaxis": {
            "backgroundcolor": "#E5ECF6",
            "gridcolor": "white",
            "gridwidth": 2,
            "linecolor": "white",
            "showbackground": true,
            "ticks": "",
            "zerolinecolor": "white"
           },
           "zaxis": {
            "backgroundcolor": "#E5ECF6",
            "gridcolor": "white",
            "gridwidth": 2,
            "linecolor": "white",
            "showbackground": true,
            "ticks": "",
            "zerolinecolor": "white"
           }
          },
          "shapedefaults": {
           "line": {
            "color": "#2a3f5f"
           }
          },
          "ternary": {
           "aaxis": {
            "gridcolor": "white",
            "linecolor": "white",
            "ticks": ""
           },
           "baxis": {
            "gridcolor": "white",
            "linecolor": "white",
            "ticks": ""
           },
           "bgcolor": "#E5ECF6",
           "caxis": {
            "gridcolor": "white",
            "linecolor": "white",
            "ticks": ""
           }
          },
          "title": {
           "x": 0.05
          },
          "xaxis": {
           "automargin": true,
           "gridcolor": "white",
           "linecolor": "white",
           "ticks": "",
           "title": {
            "standoff": 15
           },
           "zerolinecolor": "white",
           "zerolinewidth": 2
          },
          "yaxis": {
           "automargin": true,
           "gridcolor": "white",
           "linecolor": "white",
           "ticks": "",
           "title": {
            "standoff": 15
           },
           "zerolinecolor": "white",
           "zerolinewidth": 2
          }
         }
        },
        "title": {
         "text": "k-NN F1-macro (Val) на NASA data, метрика=<b>cosine</b>"
        },
        "width": 800
       }
      }
     },
     "metadata": {},
     "output_type": "display_data"
    },
    {
     "data": {
      "application/vnd.plotly.v1+json": {
       "config": {
        "plotlyServerURL": "https://plot.ly"
       },
       "data": [
        {
         "hovertemplate": "train_size_percent=%{x}<br>k=%{y}<br>f1_macro=%{marker.color}<extra></extra>",
         "legendgroup": "",
         "marker": {
          "color": {
           "bdata": "ZaGMsJMu5T9/56JapfjkP7mYrxZ+FOU/+VMImoDx4z+6hncMGqjiPyLcxWwId+E/dSWR6NEi4T8jhYe3S8/dP3H3GSvgvOY//poT5kSV5T9X4cHWb3XlP/A3kI0pHeU/ZvrMPNhk5D+KFmQ7T/rjPygwf1RueeE/lx+U54oF3z+siNAfWhbnP5NFeIicDOY/pHe46FNf5j8MHoO2qW7mP9CtOmwIseU/bt39MaHB5T8HJvwimorkP7lgsElqKeI/9kIXp2NQ6D+jCWfxJvzmP5hxvAqCGOc/r795Ied05z9bsAVbsIXlP0qf9EmfNOY/9cdKFo905T/01DI132jkP1kI+SSQjug/47fHCFvS5z+Q853Kl6rnP6At+gN8uuc/sGzz5QDL5j+lT/qkT/rlP+hmaJfgRuU/WCC+rt3e4z8=",
           "dtype": "f8"
          },
          "coloraxis": "coloraxis",
          "size": 3,
          "symbol": "circle"
         },
         "mode": "markers",
         "name": "",
         "scene": "scene",
         "showlegend": false,
         "type": "scatter3d",
         "x": {
          "bdata": "mpmZmZmZuT+amZmZmZm5P5qZmZmZmbk/mpmZmZmZuT+amZmZmZm5P5qZmZmZmbk/mpmZmZmZuT+amZmZmZm5PzQzMzMzM9M/NDMzMzMz0z80MzMzMzPTPzQzMzMzM9M/NDMzMzMz0z80MzMzMzPTPzQzMzMzM9M/NDMzMzMz0z8BAAAAAADgPwEAAAAAAOA/AQAAAAAA4D8BAAAAAADgPwEAAAAAAOA/AQAAAAAA4D8BAAAAAADgPwEAAAAAAOA/Z2ZmZmZm5j9nZmZmZmbmP2dmZmZmZuY/Z2ZmZmZm5j9nZmZmZmbmP2dmZmZmZuY/Z2ZmZmZm5j9nZmZmZmbmP87MzMzMzOw/zszMzMzM7D/OzMzMzMzsP87MzMzMzOw/zszMzMzM7D/OzMzMzMzsP87MzMzMzOw/zszMzMzM7D8=",
          "dtype": "f8"
         },
         "y": {
          "bdata": "AQMFBwsPFR8BAwUHCw8VHwEDBQcLDxUfAQMFBwsPFR8BAwUHCw8VHw==",
          "dtype": "i1"
         },
         "z": {
          "bdata": "ZaGMsJMu5T9/56JapfjkP7mYrxZ+FOU/+VMImoDx4z+6hncMGqjiPyLcxWwId+E/dSWR6NEi4T8jhYe3S8/dP3H3GSvgvOY//poT5kSV5T9X4cHWb3XlP/A3kI0pHeU/ZvrMPNhk5D+KFmQ7T/rjPygwf1RueeE/lx+U54oF3z+siNAfWhbnP5NFeIicDOY/pHe46FNf5j8MHoO2qW7mP9CtOmwIseU/bt39MaHB5T8HJvwimorkP7lgsElqKeI/9kIXp2NQ6D+jCWfxJvzmP5hxvAqCGOc/r795Ied05z9bsAVbsIXlP0qf9EmfNOY/9cdKFo905T/01DI132jkP1kI+SSQjug/47fHCFvS5z+Q853Kl6rnP6At+gN8uuc/sGzz5QDL5j+lT/qkT/rlP+hmaJfgRuU/WCC+rt3e4z8=",
          "dtype": "f8"
         }
        }
       ],
       "layout": {
        "coloraxis": {
         "colorbar": {
          "title": {
           "text": "f1_macro"
          }
         },
         "colorscale": [
          [
           0,
           "#440154"
          ],
          [
           0.1111111111111111,
           "#482878"
          ],
          [
           0.2222222222222222,
           "#3e4989"
          ],
          [
           0.3333333333333333,
           "#31688e"
          ],
          [
           0.4444444444444444,
           "#26828e"
          ],
          [
           0.5555555555555556,
           "#1f9e89"
          ],
          [
           0.6666666666666666,
           "#35b779"
          ],
          [
           0.7777777777777778,
           "#6ece58"
          ],
          [
           0.8888888888888888,
           "#b5de2b"
          ],
          [
           1,
           "#fde725"
          ]
         ]
        },
        "height": 700,
        "legend": {
         "tracegroupgap": 0
        },
        "scene": {
         "domain": {
          "x": [
           0,
           1
          ],
          "y": [
           0,
           1
          ]
         },
         "xaxis": {
          "title": {
           "text": "Розмір навч. вибірки (%)"
          }
         },
         "yaxis": {
          "title": {
           "text": "Кількість сусідів (k)"
          }
         },
         "zaxis": {
          "title": {
           "text": "F1-macro"
          }
         }
        },
        "template": {
         "data": {
          "bar": [
           {
            "error_x": {
             "color": "#2a3f5f"
            },
            "error_y": {
             "color": "#2a3f5f"
            },
            "marker": {
             "line": {
              "color": "#E5ECF6",
              "width": 0.5
             },
             "pattern": {
              "fillmode": "overlay",
              "size": 10,
              "solidity": 0.2
             }
            },
            "type": "bar"
           }
          ],
          "barpolar": [
           {
            "marker": {
             "line": {
              "color": "#E5ECF6",
              "width": 0.5
             },
             "pattern": {
              "fillmode": "overlay",
              "size": 10,
              "solidity": 0.2
             }
            },
            "type": "barpolar"
           }
          ],
          "carpet": [
           {
            "aaxis": {
             "endlinecolor": "#2a3f5f",
             "gridcolor": "white",
             "linecolor": "white",
             "minorgridcolor": "white",
             "startlinecolor": "#2a3f5f"
            },
            "baxis": {
             "endlinecolor": "#2a3f5f",
             "gridcolor": "white",
             "linecolor": "white",
             "minorgridcolor": "white",
             "startlinecolor": "#2a3f5f"
            },
            "type": "carpet"
           }
          ],
          "choropleth": [
           {
            "colorbar": {
             "outlinewidth": 0,
             "ticks": ""
            },
            "type": "choropleth"
           }
          ],
          "contour": [
           {
            "colorbar": {
             "outlinewidth": 0,
             "ticks": ""
            },
            "colorscale": [
             [
              0,
              "#0d0887"
             ],
             [
              0.1111111111111111,
              "#46039f"
             ],
             [
              0.2222222222222222,
              "#7201a8"
             ],
             [
              0.3333333333333333,
              "#9c179e"
             ],
             [
              0.4444444444444444,
              "#bd3786"
             ],
             [
              0.5555555555555556,
              "#d8576b"
             ],
             [
              0.6666666666666666,
              "#ed7953"
             ],
             [
              0.7777777777777778,
              "#fb9f3a"
             ],
             [
              0.8888888888888888,
              "#fdca26"
             ],
             [
              1,
              "#f0f921"
             ]
            ],
            "type": "contour"
           }
          ],
          "contourcarpet": [
           {
            "colorbar": {
             "outlinewidth": 0,
             "ticks": ""
            },
            "type": "contourcarpet"
           }
          ],
          "heatmap": [
           {
            "colorbar": {
             "outlinewidth": 0,
             "ticks": ""
            },
            "colorscale": [
             [
              0,
              "#0d0887"
             ],
             [
              0.1111111111111111,
              "#46039f"
             ],
             [
              0.2222222222222222,
              "#7201a8"
             ],
             [
              0.3333333333333333,
              "#9c179e"
             ],
             [
              0.4444444444444444,
              "#bd3786"
             ],
             [
              0.5555555555555556,
              "#d8576b"
             ],
             [
              0.6666666666666666,
              "#ed7953"
             ],
             [
              0.7777777777777778,
              "#fb9f3a"
             ],
             [
              0.8888888888888888,
              "#fdca26"
             ],
             [
              1,
              "#f0f921"
             ]
            ],
            "type": "heatmap"
           }
          ],
          "histogram": [
           {
            "marker": {
             "pattern": {
              "fillmode": "overlay",
              "size": 10,
              "solidity": 0.2
             }
            },
            "type": "histogram"
           }
          ],
          "histogram2d": [
           {
            "colorbar": {
             "outlinewidth": 0,
             "ticks": ""
            },
            "colorscale": [
             [
              0,
              "#0d0887"
             ],
             [
              0.1111111111111111,
              "#46039f"
             ],
             [
              0.2222222222222222,
              "#7201a8"
             ],
             [
              0.3333333333333333,
              "#9c179e"
             ],
             [
              0.4444444444444444,
              "#bd3786"
             ],
             [
              0.5555555555555556,
              "#d8576b"
             ],
             [
              0.6666666666666666,
              "#ed7953"
             ],
             [
              0.7777777777777778,
              "#fb9f3a"
             ],
             [
              0.8888888888888888,
              "#fdca26"
             ],
             [
              1,
              "#f0f921"
             ]
            ],
            "type": "histogram2d"
           }
          ],
          "histogram2dcontour": [
           {
            "colorbar": {
             "outlinewidth": 0,
             "ticks": ""
            },
            "colorscale": [
             [
              0,
              "#0d0887"
             ],
             [
              0.1111111111111111,
              "#46039f"
             ],
             [
              0.2222222222222222,
              "#7201a8"
             ],
             [
              0.3333333333333333,
              "#9c179e"
             ],
             [
              0.4444444444444444,
              "#bd3786"
             ],
             [
              0.5555555555555556,
              "#d8576b"
             ],
             [
              0.6666666666666666,
              "#ed7953"
             ],
             [
              0.7777777777777778,
              "#fb9f3a"
             ],
             [
              0.8888888888888888,
              "#fdca26"
             ],
             [
              1,
              "#f0f921"
             ]
            ],
            "type": "histogram2dcontour"
           }
          ],
          "mesh3d": [
           {
            "colorbar": {
             "outlinewidth": 0,
             "ticks": ""
            },
            "type": "mesh3d"
           }
          ],
          "parcoords": [
           {
            "line": {
             "colorbar": {
              "outlinewidth": 0,
              "ticks": ""
             }
            },
            "type": "parcoords"
           }
          ],
          "pie": [
           {
            "automargin": true,
            "type": "pie"
           }
          ],
          "scatter": [
           {
            "fillpattern": {
             "fillmode": "overlay",
             "size": 10,
             "solidity": 0.2
            },
            "type": "scatter"
           }
          ],
          "scatter3d": [
           {
            "line": {
             "colorbar": {
              "outlinewidth": 0,
              "ticks": ""
             }
            },
            "marker": {
             "colorbar": {
              "outlinewidth": 0,
              "ticks": ""
             }
            },
            "type": "scatter3d"
           }
          ],
          "scattercarpet": [
           {
            "marker": {
             "colorbar": {
              "outlinewidth": 0,
              "ticks": ""
             }
            },
            "type": "scattercarpet"
           }
          ],
          "scattergeo": [
           {
            "marker": {
             "colorbar": {
              "outlinewidth": 0,
              "ticks": ""
             }
            },
            "type": "scattergeo"
           }
          ],
          "scattergl": [
           {
            "marker": {
             "colorbar": {
              "outlinewidth": 0,
              "ticks": ""
             }
            },
            "type": "scattergl"
           }
          ],
          "scattermap": [
           {
            "marker": {
             "colorbar": {
              "outlinewidth": 0,
              "ticks": ""
             }
            },
            "type": "scattermap"
           }
          ],
          "scattermapbox": [
           {
            "marker": {
             "colorbar": {
              "outlinewidth": 0,
              "ticks": ""
             }
            },
            "type": "scattermapbox"
           }
          ],
          "scatterpolar": [
           {
            "marker": {
             "colorbar": {
              "outlinewidth": 0,
              "ticks": ""
             }
            },
            "type": "scatterpolar"
           }
          ],
          "scatterpolargl": [
           {
            "marker": {
             "colorbar": {
              "outlinewidth": 0,
              "ticks": ""
             }
            },
            "type": "scatterpolargl"
           }
          ],
          "scatterternary": [
           {
            "marker": {
             "colorbar": {
              "outlinewidth": 0,
              "ticks": ""
             }
            },
            "type": "scatterternary"
           }
          ],
          "surface": [
           {
            "colorbar": {
             "outlinewidth": 0,
             "ticks": ""
            },
            "colorscale": [
             [
              0,
              "#0d0887"
             ],
             [
              0.1111111111111111,
              "#46039f"
             ],
             [
              0.2222222222222222,
              "#7201a8"
             ],
             [
              0.3333333333333333,
              "#9c179e"
             ],
             [
              0.4444444444444444,
              "#bd3786"
             ],
             [
              0.5555555555555556,
              "#d8576b"
             ],
             [
              0.6666666666666666,
              "#ed7953"
             ],
             [
              0.7777777777777778,
              "#fb9f3a"
             ],
             [
              0.8888888888888888,
              "#fdca26"
             ],
             [
              1,
              "#f0f921"
             ]
            ],
            "type": "surface"
           }
          ],
          "table": [
           {
            "cells": {
             "fill": {
              "color": "#EBF0F8"
             },
             "line": {
              "color": "white"
             }
            },
            "header": {
             "fill": {
              "color": "#C8D4E3"
             },
             "line": {
              "color": "white"
             }
            },
            "type": "table"
           }
          ]
         },
         "layout": {
          "annotationdefaults": {
           "arrowcolor": "#2a3f5f",
           "arrowhead": 0,
           "arrowwidth": 1
          },
          "autotypenumbers": "strict",
          "coloraxis": {
           "colorbar": {
            "outlinewidth": 0,
            "ticks": ""
           }
          },
          "colorscale": {
           "diverging": [
            [
             0,
             "#8e0152"
            ],
            [
             0.1,
             "#c51b7d"
            ],
            [
             0.2,
             "#de77ae"
            ],
            [
             0.3,
             "#f1b6da"
            ],
            [
             0.4,
             "#fde0ef"
            ],
            [
             0.5,
             "#f7f7f7"
            ],
            [
             0.6,
             "#e6f5d0"
            ],
            [
             0.7,
             "#b8e186"
            ],
            [
             0.8,
             "#7fbc41"
            ],
            [
             0.9,
             "#4d9221"
            ],
            [
             1,
             "#276419"
            ]
           ],
           "sequential": [
            [
             0,
             "#0d0887"
            ],
            [
             0.1111111111111111,
             "#46039f"
            ],
            [
             0.2222222222222222,
             "#7201a8"
            ],
            [
             0.3333333333333333,
             "#9c179e"
            ],
            [
             0.4444444444444444,
             "#bd3786"
            ],
            [
             0.5555555555555556,
             "#d8576b"
            ],
            [
             0.6666666666666666,
             "#ed7953"
            ],
            [
             0.7777777777777778,
             "#fb9f3a"
            ],
            [
             0.8888888888888888,
             "#fdca26"
            ],
            [
             1,
             "#f0f921"
            ]
           ],
           "sequentialminus": [
            [
             0,
             "#0d0887"
            ],
            [
             0.1111111111111111,
             "#46039f"
            ],
            [
             0.2222222222222222,
             "#7201a8"
            ],
            [
             0.3333333333333333,
             "#9c179e"
            ],
            [
             0.4444444444444444,
             "#bd3786"
            ],
            [
             0.5555555555555556,
             "#d8576b"
            ],
            [
             0.6666666666666666,
             "#ed7953"
            ],
            [
             0.7777777777777778,
             "#fb9f3a"
            ],
            [
             0.8888888888888888,
             "#fdca26"
            ],
            [
             1,
             "#f0f921"
            ]
           ]
          },
          "colorway": [
           "#636efa",
           "#EF553B",
           "#00cc96",
           "#ab63fa",
           "#FFA15A",
           "#19d3f3",
           "#FF6692",
           "#B6E880",
           "#FF97FF",
           "#FECB52"
          ],
          "font": {
           "color": "#2a3f5f"
          },
          "geo": {
           "bgcolor": "white",
           "lakecolor": "white",
           "landcolor": "#E5ECF6",
           "showlakes": true,
           "showland": true,
           "subunitcolor": "white"
          },
          "hoverlabel": {
           "align": "left"
          },
          "hovermode": "closest",
          "mapbox": {
           "style": "light"
          },
          "paper_bgcolor": "white",
          "plot_bgcolor": "#E5ECF6",
          "polar": {
           "angularaxis": {
            "gridcolor": "white",
            "linecolor": "white",
            "ticks": ""
           },
           "bgcolor": "#E5ECF6",
           "radialaxis": {
            "gridcolor": "white",
            "linecolor": "white",
            "ticks": ""
           }
          },
          "scene": {
           "xaxis": {
            "backgroundcolor": "#E5ECF6",
            "gridcolor": "white",
            "gridwidth": 2,
            "linecolor": "white",
            "showbackground": true,
            "ticks": "",
            "zerolinecolor": "white"
           },
           "yaxis": {
            "backgroundcolor": "#E5ECF6",
            "gridcolor": "white",
            "gridwidth": 2,
            "linecolor": "white",
            "showbackground": true,
            "ticks": "",
            "zerolinecolor": "white"
           },
           "zaxis": {
            "backgroundcolor": "#E5ECF6",
            "gridcolor": "white",
            "gridwidth": 2,
            "linecolor": "white",
            "showbackground": true,
            "ticks": "",
            "zerolinecolor": "white"
           }
          },
          "shapedefaults": {
           "line": {
            "color": "#2a3f5f"
           }
          },
          "ternary": {
           "aaxis": {
            "gridcolor": "white",
            "linecolor": "white",
            "ticks": ""
           },
           "baxis": {
            "gridcolor": "white",
            "linecolor": "white",
            "ticks": ""
           },
           "bgcolor": "#E5ECF6",
           "caxis": {
            "gridcolor": "white",
            "linecolor": "white",
            "ticks": ""
           }
          },
          "title": {
           "x": 0.05
          },
          "xaxis": {
           "automargin": true,
           "gridcolor": "white",
           "linecolor": "white",
           "ticks": "",
           "title": {
            "standoff": 15
           },
           "zerolinecolor": "white",
           "zerolinewidth": 2
          },
          "yaxis": {
           "automargin": true,
           "gridcolor": "white",
           "linecolor": "white",
           "ticks": "",
           "title": {
            "standoff": 15
           },
           "zerolinecolor": "white",
           "zerolinewidth": 2
          }
         }
        },
        "title": {
         "text": "k-NN F1-macro (Val) на NASA data, метрика=<b>chebyshev</b>"
        },
        "width": 800
       }
      }
     },
     "metadata": {},
     "output_type": "display_data"
    }
   ],
   "source": [
    "# Створюємо DataFrame з результатами\n",
    "results_df = pd.DataFrame(\n",
    "    experiment_results, \n",
    "    columns=[\"metric\", \"train_size_percent\", \"k\", \"f1_macro\"]\n",
    ")\n",
    "\n",
    "print(\"Топ 5 найкращих комбінацій на валідаційному наборі:\")\n",
    "display(results_df.sort_values(by=\"f1_macro\", ascending=False).head())\n",
    "\n",
    "# Візуалізація результатів\n",
    "for metric in metrics_to_test:\n",
    "    vis_data = results_df[results_df[\"metric\"] == metric]\n",
    "    \n",
    "    if vis_data.empty:\n",
    "        print(f\"Немає даних для метрики: {metric}\")\n",
    "        continue\n",
    "\n",
    "    fig = px.scatter_3d(\n",
    "        vis_data, \n",
    "        x='train_size_percent', \n",
    "        y='k', \n",
    "        z='f1_macro',\n",
    "        title=f\"k-NN F1-macro (Val) на NASA data, метрика=<b>{metric}</b>\",\n",
    "        color=\"f1_macro\",\n",
    "        color_continuous_scale=px.colors.sequential.Viridis,\n",
    "        width=800, height=700\n",
    "    )\n",
    "    \n",
    "    fig.update_traces(marker=dict(size=3))\n",
    "    fig.update_layout(\n",
    "        scene=dict(\n",
    "            xaxis_title='Розмір навч. вибірки (%)',\n",
    "            yaxis_title='Кількість сусідів (k)',\n",
    "            zaxis_title='F1-macro'\n",
    "        )\n",
    "    )\n",
    "    fig.show()"
   ]
  },
  {
   "cell_type": "markdown",
   "id": "5f5bae39",
   "metadata": {},
   "source": [
    "## 2.2.2 Best Model Selection and Evaluation on Test Set"
   ]
  },
  {
   "cell_type": "code",
   "execution_count": 96,
   "id": "60bf4b4bc3c84dbb",
   "metadata": {
    "ExecuteTime": {
     "end_time": "2025-10-24T06:34:47.624693Z",
     "start_time": "2025-10-24T06:34:47.517890Z"
    }
   },
   "outputs": [
    {
     "name": "stdout",
     "output_type": "stream",
     "text": [
      "Найкраща модель (за результатами валідації при max train_size):\n",
      "metric                manhattan\n",
      "train_size_percent          0.9\n",
      "k                             3\n",
      "f1_macro               0.837101\n",
      "Name: 137, dtype: object\n",
      "\n",
      "Навчання фінальної моделі з k=3 та metric='manhattan' на 3280 зразках.\n",
      "\n",
      "--- Звіт класифікації для ТЕСТОВОГО набору ---\n",
      "                    precision    recall  f1-score   support\n",
      "\n",
      " Безпечний (False)       0.93      0.95      0.94      1180\n",
      "Небезпечний (True)       0.71      0.61      0.66       227\n",
      "\n",
      "          accuracy                           0.90      1407\n",
      "         macro avg       0.82      0.78      0.80      1407\n",
      "      weighted avg       0.89      0.90      0.89      1407\n",
      "\n",
      "Матриця помилок для ТЕСТОВОГО набору:\n"
     ]
    },
    {
     "data": {
      "image/png": "[encoded data removed]",
      "text/plain": [
       "<Figure size 800x600 with 2 Axes>"
      ]
     },
     "metadata": {},
     "output_type": "display_data"
    }
   ],
   "source": [
    "# 1. Знаходимо найкращі гіперпараметри з нашого експерименту\n",
    "best_params_df = results_df[results_df['train_size_percent'] == results_df['train_size_percent'].max()]\n",
    "best_overall = best_params_df.loc[best_params_df['f1_macro'].idxmax()]\n",
    "\n",
    "print(f\"Найкраща модель (за результатами валідації при max train_size):\")\n",
    "print(best_overall)\n",
    "\n",
    "best_k = int(best_overall['k'])\n",
    "best_metric = best_overall['metric']\n",
    "\n",
    "# 2. Тепер тренуємо фінальну модель на ВСІХ тренувальних даних (X_train_full)\n",
    "final_knn_model = KNeighborsClassifier(n_neighbors=best_k, metric=best_metric, n_jobs=-1)\n",
    "final_knn_model.fit(X_train_full, y_train_full)\n",
    "\n",
    "print(f\"\\nНавчання фінальної моделі з k={best_k} та metric='{best_metric}' на {len(y_train_full)} зразках.\")\n",
    "\n",
    "# 3. Оцінюємо на тестовому наборі (X_test, y_test)\n",
    "y_test_pred = final_knn_model.predict(X_test)\n",
    "\n",
    "print(\"\\n--- Звіт класифікації для ТЕСТОВОГО набору ---\")\n",
    "class_names = ['Безпечний (False)', 'Небезпечний (True)']\n",
    "print(classification_report(y_test, y_test_pred, target_names=class_names))\n",
    "\n",
    "# 4. Побудова матриці помилок\n",
    "print(\"Матриця помилок для ТЕСТОВОГО набору:\")\n",
    "fig, ax = plt.subplots(figsize=(8, 6))\n",
    "ax.grid(False)\n",
    "\n",
    "ConfusionMatrixDisplay.from_estimator(\n",
    "    final_knn_model, \n",
    "    X_test, \n",
    "    y_test,\n",
    "    display_labels=class_names,\n",
    "    cmap=plt.cm.Blues,\n",
    "    ax=ax,\n",
    ")\n",
    "\n",
    "plt.title(\"Confusion Matrix for TEST set\")\n",
    "plt.show()"
   ]
  },
  {
   "cell_type": "markdown",
   "id": "1f82f7d0",
   "metadata": {},
   "source": [
    "## 2.2.3 Decision Boundary Visualization (via PCA)"
   ]
  },
  {
   "cell_type": "code",
   "execution_count": 97,
   "id": "de633f3a1bfe2c0d",
   "metadata": {
    "ExecuteTime": {
     "end_time": "2025-10-24T06:34:52.709311Z",
     "start_time": "2025-10-24T06:34:52.625696Z"
    }
   },
   "outputs": [
    {
     "name": "stdout",
     "output_type": "stream",
     "text": [
      "\n",
      "Візуалізація межі рішень за допомогою PCA (зменшення до 2D)\n",
      "Малюємо межу рішень (k=3, metric='manhattan') для даних, навчених на PCA\n"
     ]
    },
    {
     "data": {
      "image/png": "[encoded data removed]",
      "text/plain": [
       "<Figure size 800x800 with 1 Axes>"
      ]
     },
     "metadata": {},
     "output_type": "display_data"
    }
   ],
   "source": [
    "print(\"\\nВізуалізація межі рішень за допомогою PCA (зменшення до 2D)\")\n",
    "\n",
    "# 1. Зменшуємо розмірність X_train_full до 2 компонент\n",
    "pca = PCA(n_components=2)\n",
    "X_train_full_pca = pca.fit_transform(X_train_full)\n",
    "\n",
    "# 2. Навчаємо k-NN на цих 2D даних\n",
    "knn_pca_model = KNeighborsClassifier(n_neighbors=best_k, metric=best_metric)\n",
    "knn_pca_model.fit(X_train_full_pca, y_train_full)\n",
    "\n",
    "# 3. Візуалізуємо\n",
    "print(f\"Малюємо межу рішень (k={best_k}, metric='{best_metric}') для даних, навчених на PCA\")\n",
    "plot_classifier_boundary(\n",
    "    X_train_full_pca, \n",
    "    y_train_full, \n",
    "    model=knn_pca_model, \n",
    "    title=f\"k-NN (k={best_k}, metric='{best_metric}') на PCA-даних\"\n",
    ")"
   ]
  },
  {
   "cell_type": "markdown",
   "id": "3ab1c4a3473d1925",
   "metadata": {},
   "source": [
    "# Conclusions"
   ]
  },
  {
   "cell_type": "markdown",
   "id": "e88c25d7",
   "metadata": {},
   "source": [
    "Під час виконання цієї лабораторної роботи я ознайомився з \"лінивим\" алгоритмом k-NN на прикладі датасету NASA: Asteroids Classification. Ключовим викликом стала сильна незбалансованість класів, що вимагало використання метрики f1-macro замість звичайної точності. Також, оскільки k-NN базується на відстанях, обов'язковим кроком було масштабування всіх ознак за допомогою StandardScaler.\n",
    "\n",
    "За прикладами вишче, я реалізував train-val-test розділення даних. Це дозволило коректно провести експерименти, перебираючи різні метрики (euclidean, manhattan та ін.), кількість сусідів (k) та обсяг навчальних даних на валідаційному наборі.\n",
    "\n",
    "За результатами експериментів, найкращу якість (f1-macro = 0.837) показала модель з параметрами metric = 'manhattan' та k = 3. Цю фінальну модель було навчено на повному тренувальному наборі та протестовано на \"небачених\" тестових даних, де вона досягла фінального f1-macro = 0.80. Робота продемонструвала, що ефективність k-NN критично залежить від підготовки даних (масштабування) та ретельного підбору гіперпараметрів."
   ]
  }
 ],
 "metadata": {
  "kernelspec": {
   "display_name": "Python 3",
   "language": "python",
   "name": "python3"
  },
  "language_info": {
   "codemirror_mode": {
    "name": "ipython",
    "version": 3
   },
   "file_extension": ".py",
   "mimetype": "text/x-python",
   "name": "python",
   "nbconvert_exporter": "python",
   "pygments_lexer": "ipython3",
   "version": "3.12.4"
  }
 },
 "nbformat": 4,
 "nbformat_minor": 5
}
